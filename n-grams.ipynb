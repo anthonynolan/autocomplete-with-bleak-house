{
 "cells": [
  {
   "cell_type": "markdown",
   "metadata": {},
   "source": [
    "### n-gram models\n",
    "\n",
    "[Link](https://github.com/ijelliti/Deeplearning.ai-Natural-Language-Processing-Specialization/tree/master/2%20-%20Natural%20Language%20Processing%20with%20Probabilistic%20Models#autocomplete-and-language-models)"
   ]
  },
  {
   "cell_type": "code",
   "execution_count": 4,
   "metadata": {
    "ExecuteTime": {
     "end_time": "2020-09-10T09:46:09.163686Z",
     "start_time": "2020-09-10T09:46:03.024160Z"
    }
   },
   "outputs": [],
   "source": [
    "import tensorflow as tf\n",
    "from tensorflow import keras\n",
    "from tensorflow.keras import layers\n",
    "import numpy as np\n",
    "import string\n",
    "from nltk.tokenize import word_tokenize\n",
    "from nltk import FreqDist\n",
    "from nltk.corpus import stopwords\n",
    "from nltk.stem import PorterStemmer\n",
    "from collections import Counter\n",
    "from sklearn.model_selection import train_test_split\n",
    "import matplotlib.pyplot as plt\n"
   ]
  },
  {
   "cell_type": "code",
   "execution_count": 5,
   "metadata": {
    "ExecuteTime": {
     "end_time": "2020-09-10T09:46:09.174629Z",
     "start_time": "2020-09-10T09:46:09.165775Z"
    }
   },
   "outputs": [],
   "source": [
    "def read_corpus(title='bleak.txt'):\n",
    "    with open(title, 'rt', encoding='utf-8-sig') as f:\n",
    "        content = f.read()\n",
    "    return content\n"
   ]
  },
  {
   "cell_type": "code",
   "execution_count": 6,
   "metadata": {
    "ExecuteTime": {
     "end_time": "2020-09-10T09:46:09.192648Z",
     "start_time": "2020-09-10T09:46:09.178320Z"
    }
   },
   "outputs": [],
   "source": [
    "body = read_corpus()"
   ]
  },
  {
   "cell_type": "code",
   "execution_count": 11,
   "metadata": {
    "ExecuteTime": {
     "end_time": "2020-09-10T09:47:11.875298Z",
     "start_time": "2020-09-10T09:47:10.637693Z"
    }
   },
   "outputs": [],
   "source": [
    "def preprocess(st):\n",
    "    strip_chars = ['\\'']\n",
    "    for c in strip_chars:\n",
    "        st = st.replace(c , '')\n",
    "\n",
    "    rep_with_space_chars = [',', '.', '!', '?', '\"', '-', ';', '(', ')']\n",
    "    for c in rep_with_space_chars:\n",
    "        st = st.replace(c , ' ')\n",
    "\n",
    "    word_list = word_tokenize(st)\n",
    "    word_list = [a.lower().strip() for a in word_list]\n",
    "    return word_list\n",
    "word_list = preprocess(body)"
   ]
  },
  {
   "cell_type": "code",
   "execution_count": 12,
   "metadata": {
    "ExecuteTime": {
     "end_time": "2020-09-10T09:47:11.908977Z",
     "start_time": "2020-09-10T09:47:11.877152Z"
    }
   },
   "outputs": [
    {
     "name": "stdout",
     "output_type": "stream",
     "text": [
      "361164 total words\n",
      "15377 unique words\n"
     ]
    }
   ],
   "source": [
    "print('{} total words'.format(len(word_list)))\n",
    "print('{} unique words'.format(len(set(word_list))))"
   ]
  },
  {
   "cell_type": "code",
   "execution_count": 13,
   "metadata": {
    "ExecuteTime": {
     "end_time": "2020-09-10T09:47:14.452987Z",
     "start_time": "2020-09-10T09:47:14.286065Z"
    }
   },
   "outputs": [],
   "source": [
    "from nltk import bigrams, trigrams\n",
    "from collections import Counter\n",
    "\n",
    "grams = list(trigrams(word_list))\n",
    "total_gram_count = len(grams)"
   ]
  },
  {
   "cell_type": "code",
   "execution_count": 14,
   "metadata": {
    "ExecuteTime": {
     "end_time": "2020-09-10T09:47:15.299464Z",
     "start_time": "2020-09-10T09:47:15.148725Z"
    }
   },
   "outputs": [
    {
     "name": "stdout",
     "output_type": "stream",
     "text": [
      "285448\n"
     ]
    },
    {
     "data": {
      "text/plain": [
       "[(('i', 'dont', 'know'), 127),\n",
       " (('out', 'of', 'the'), 108),\n",
       " (('sir', 'leicester', 'dedlock'), 99),\n",
       " (('i', 'am', 'not'), 92),\n",
       " (('said', 'my', 'guardian'), 91),\n",
       " (('as', 'if', 'he'), 89),\n",
       " (('i', 'could', 'not'), 80),\n",
       " (('says', 'mr', 'bucket'), 75),\n",
       " (('that', 'i', 'was'), 71),\n",
       " (('i', 'am', 'sure'), 70)]"
      ]
     },
     "execution_count": 14,
     "metadata": {},
     "output_type": "execute_result"
    }
   ],
   "source": [
    "c = Counter(grams)\n",
    "gram_count = len(c)\n",
    "print(gram_count)\n",
    "c.most_common(10)"
   ]
  },
  {
   "cell_type": "code",
   "execution_count": 15,
   "metadata": {
    "ExecuteTime": {
     "end_time": "2020-09-10T09:47:16.342530Z",
     "start_time": "2020-09-10T09:47:16.268481Z"
    }
   },
   "outputs": [
    {
     "name": "stdout",
     "output_type": "stream",
     "text": [
      "know\n"
     ]
    }
   ],
   "source": [
    "#given 2 words what is the most probably trigram?\n",
    "candidates = []\n",
    "sentence = preprocess(\"I dont\")\n",
    "count_dict = dict(c)\n",
    "for key in count_dict.keys():\n",
    "    if key[0]==sentence[0] and key[1]==sentence[1]:\n",
    "        candidates.append((key, count_dict[key]))\n",
    "if len(candidates)==0: \n",
    "    print('duh')\n",
    "else:\n",
    "    print(sorted(candidates, key=lambda x: x[1], reverse=True)[0][0][2])"
   ]
  },
  {
   "cell_type": "code",
   "execution_count": null,
   "metadata": {},
   "outputs": [],
   "source": []
  },
  {
   "cell_type": "code",
   "execution_count": null,
   "metadata": {},
   "outputs": [],
   "source": []
  }
 ],
 "metadata": {
  "kernelspec": {
   "display_name": "Python 3",
   "language": "python",
   "name": "python3"
  },
  "language_info": {
   "codemirror_mode": {
    "name": "ipython",
    "version": 3
   },
   "file_extension": ".py",
   "mimetype": "text/x-python",
   "name": "python",
   "nbconvert_exporter": "python",
   "pygments_lexer": "ipython3",
   "version": "3.7.5"
  }
 },
 "nbformat": 4,
 "nbformat_minor": 4
}
