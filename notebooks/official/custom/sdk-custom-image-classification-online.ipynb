{
  "cells": [
    {
      "cell_type": "code",
      "execution_count": null,
      "metadata": {
        "id": "copyright"
      },
      "outputs": [],
      "source": [
        "# Copyright 2020 Google LLC\n",
        "#\n",
        "# Licensed under the Apache License, Version 2.0 (the \"License\");\n",
        "# you may not use this file except in compliance with the License.\n",
        "# You may obtain a copy of the License at\n",
        "#\n",
        "#     https://www.apache.org/licenses/LICENSE-2.0\n",
        "#\n",
        "# Unless required by applicable law or agreed to in writing, software\n",
        "# distributed under the License is distributed on an \"AS IS\" BASIS,\n",
        "# WITHOUT WARRANTIES OR CONDITIONS OF ANY KIND, either express or implied.\n",
        "# See the License for the specific language governing permissions and\n",
        "# limitations under the License."
      ]
    },
    {
      "cell_type": "markdown",
      "metadata": {
        "id": "title"
      },
      "source": [
        "# Custom training and online prediction\n",
        "\n",
        "<table align=\"left\">\n",
        "  <td style=\"text-align: center\">\n",
        "    <a href=\"https://colab.research.google.com/github/GoogleCloudPlatform/vertex-ai-samples/blob/main/notebooks/official/custom/sdk-custom-image-classification-online.ipynb\">\n",
        "      <img src=\"https://cloud.google.com/ml-engine/images/colab-logo-32px.png\" alt=\"Google Colaboratory logo\"><br> Open in Colab\n",
        "    </a>\n",
        "  </td>\n",
        "  <td style=\"text-align: center\">\n",
        "    <a href=\"https://console.cloud.google.com/vertex-ai/colab/import/https:%2F%2Fraw.githubusercontent.com%2FGoogleCloudPlatform%2Fvertex-ai-samples%2Fmain%2Fnotebooks%2Fofficial%2Fcustom%2Fsdk-custom-image-classification-online.ipynb\">\n",
        "      <img width=\"32px\" src=\"https://cloud.google.com/ml-engine/images/colab-enterprise-logo-32px.png\" alt=\"Google Cloud Colab Enterprise logo\"><br> Open in Colab Enterprise\n",
        "    </a>\n",
        "  </td>    \n",
        "  <td style=\"text-align: center\">\n",
        "    <a href=\"https://console.cloud.google.com/vertex-ai/workbench/deploy-notebook?download_url=https://raw.githubusercontent.com/GoogleCloudPlatform/vertex-ai-samples/main/notebooks/official/custom/sdk-custom-image-classification-online.ipynb\">\n",
        "      <img src=\"https://lh3.googleusercontent.com/UiNooY4LUgW_oTvpsNhPpQzsstV5W8F7rYgxgGBD85cWJoLmrOzhVs_ksK_vgx40SHs7jCqkTkCk=e14-rj-sc0xffffff-h130-w32\" alt=\"Vertex AI logo\"><br> Open in Workbench\n",
        "    </a>\n",
        "  </td>\n",
        "  <td style=\"text-align: center\">\n",
        "    <a href=\"https://github.com/GoogleCloudPlatform/vertex-ai-samples/blob/main/notebooks/official/custom/sdk-custom-image-classification-online.ipynb\">\n",
        "      <img src=\"https://cloud.google.com/ml-engine/images/github-logo-32px.png\" alt=\"GitHub logo\"><br> View on GitHub\n",
        "    </a>\n",
        "  </td>\n",
        "</table>"
      ]
    },
    {
      "cell_type": "markdown",
      "metadata": {
        "id": "overview:custom"
      },
      "source": [
        "## Overview\n",
        "\n",
        "\n",
        "This tutorial demonstrates how to use the Vertex AI SDK for Python to train and deploy a custom image classification model for online prediction.\n",
        "\n",
        "Learn more about [Custom training](https://cloud.google.com/vertex-ai/docs/training/custom-training) and [Vertex AI Prediction](https://cloud.google.com/vertex-ai/docs/predictions/get-predictions)."
      ]
    },
    {
      "cell_type": "markdown",
      "metadata": {
        "id": "objective:custom,training,online_prediction"
      },
      "source": [
        "### Objective\n",
        "\n",
        "In this tutorial, you learn to use `Vertex AI Training` to create a custom-trained model from a Python script in a Docker container, and learn to use `Vertex AI Prediction` to do a prediction on the deployed model by sending data. Alternatively, you can create custom-trained models using `gcloud` command-line tool, or online using the Cloud Console.\n",
        "\n",
        "This tutorial uses the following Google Cloud ML services:\n",
        "\n",
        "- `Vertex AI Training`\n",
        "- `Vertex AI Prediction`\n",
        "- `Vertex AI Model` resource\n",
        "- `Vertex AI Endpoint` resource\n",
        "\n",
        "The steps performed include:\n",
        "\n",
        "- Create a `Vertex AI` custom job for training a TensorFlow model.\n",
        "- Upload the trained model artifacts to a `Model` resource.\n",
        "- Create a serving `Endpoint` resource.\n",
        "- Deploy the `Model` resource to a serving `Endpoint` resource.\n",
        "- Make a prediction.\n",
        "- Undeploy the `Model` resource."
      ]
    },
    {
      "cell_type": "markdown",
      "metadata": {
        "id": "dataset:custom,cifar10,icn"
      },
      "source": [
        "### Dataset\n",
        "\n",
        "The dataset used for this tutorial is the [cifar10 dataset](https://www.tensorflow.org/datasets/catalog/cifar10) from [TensorFlow Datasets](https://www.tensorflow.org/datasets/catalog/overview). The version of the dataset you will use is built into TensorFlow. The trained model predicts which type of class an image is from ten classes: airplane, automobile, bird, cat, deer, dog, frog, horse, ship, truck."
      ]
    },
    {
      "cell_type": "markdown",
      "metadata": {
        "id": "costs"
      },
      "source": [
        "### Costs\n",
        "\n",
        "This tutorial uses billable components of Google Cloud (GCP):\n",
        "\n",
        "* Vertex AI\n",
        "* Cloud Storage\n",
        "\n",
        "Learn about [Vertex AI\n",
        "pricing](https://cloud.google.com/vertex-ai/pricing) and [Cloud Storage\n",
        "pricing](https://cloud.google.com/storage/pricing), and use the [Pricing\n",
        "Calculator](https://cloud.google.com/products/calculator/)\n",
        "to generate a cost estimate based on your projected usage."
      ]
    },
    {
      "cell_type": "markdown",
      "metadata": {
        "id": "3b1ffd5ab768"
      },
      "source": [
        "## Get started"
      ]
    },
    {
      "cell_type": "markdown",
      "metadata": {
        "id": "aae9ca040eab"
      },
      "source": [
        "### Install Vertex AI SDK for Python and other required packages\n"
      ]
    },
    {
      "cell_type": "code",
      "execution_count": null,
      "metadata": {
        "id": "0d3d0b3a3d88"
      },
      "outputs": [],
      "source": [
        "! pip3 install --upgrade --quiet google-cloud-aiplatform \\\n",
        "                                 google-cloud \\\n",
        "                                 google-cloud-storage \\\n",
        "                                 pillow \\\n",
        "                                 numpy"
      ]
    },
    {
      "cell_type": "markdown",
      "metadata": {
        "id": "ff555b32bab8"
      },
      "source": [
        "### Restart runtime (Colab only)\n",
        "\n",
        "To use the newly installed packages, you must restart the runtime on Google Colab."
      ]
    },
    {
      "cell_type": "code",
      "execution_count": null,
      "metadata": {
        "id": "f09b4dff629a"
      },
      "outputs": [],
      "source": [
        "import sys\n",
        "\n",
        "if \"google.colab\" in sys.modules:\n",
        "\n",
        "    import IPython\n",
        "\n",
        "    app = IPython.Application.instance()\n",
        "    app.kernel.do_shutdown(True)"
      ]
    },
    {
      "cell_type": "markdown",
      "metadata": {
        "id": "54c5ef8a8f43"
      },
      "source": [
        "<div class=\"alert alert-block alert-warning\">\n",
        "<b>⚠️ The kernel is going to restart. Wait until it's finished before continuing to the next step. ⚠️</b>\n",
        "</div>\n"
      ]
    },
    {
      "cell_type": "markdown",
      "metadata": {
        "id": "92e68cfc3a90"
      },
      "source": [
        "### Authenticate your notebook environment (Colab only)\n",
        "\n",
        "Authenticate your environment on Google Colab.\n"
      ]
    },
    {
      "cell_type": "code",
      "execution_count": null,
      "metadata": {
        "id": "46604f70e831"
      },
      "outputs": [],
      "source": [
        "import sys\n",
        "\n",
        "if \"google.colab\" in sys.modules:\n",
        "\n",
        "    from google.colab import auth\n",
        "\n",
        "    auth.authenticate_user()"
      ]
    },
    {
      "cell_type": "markdown",
      "metadata": {
        "id": "107c51893a64"
      },
      "source": [
        "### Set Google Cloud project information and initialize Vertex AI SDK for Python\n",
        "\n",
        "To get started using Vertex AI, you must have an existing Google Cloud project and [enable the Vertex AI API](https://console.cloud.google.com/flows/enableapi?apiid=aiplatform.googleapis.com). Learn more about [setting up a project and a development environment](https://cloud.google.com/vertex-ai/docs/start/cloud-environment)."
      ]
    },
    {
      "cell_type": "code",
      "execution_count": null,
      "metadata": {
        "id": "294fe4e5a671"
      },
      "outputs": [],
      "source": [
        "PROJECT_ID = \"[your-project-id]\"  # @param {type:\"string\"}\n",
        "LOCATION = \"us-central1\"  # @param {type:\"string\"}"
      ]
    },
    {
      "cell_type": "markdown",
      "metadata": {
        "id": "70a42f1033a3"
      },
      "source": [
        "#### Create a Cloud Storage bucket\n",
        "\n",
        "Create a storage bucket to store intermediate artifacts such as datasets."
      ]
    },
    {
      "cell_type": "code",
      "execution_count": null,
      "metadata": {
        "id": "7c12c0866590"
      },
      "outputs": [],
      "source": [
        "BUCKET_URI = f\"gs://your-bucket-name-{PROJECT_ID}-unique\"  # @param {type:\"string\"}"
      ]
    },
    {
      "cell_type": "markdown",
      "metadata": {
        "id": "0cb016da6de3"
      },
      "source": [
        "**If your bucket doesn't already exist**: Run the following cell to create your Cloud Storage bucket."
      ]
    },
    {
      "cell_type": "code",
      "execution_count": null,
      "metadata": {
        "id": "eddb0b63434c"
      },
      "outputs": [],
      "source": [
        "! gsutil mb -l $LOCATION -p $PROJECT_ID $BUCKET_URI"
      ]
    },
    {
      "cell_type": "markdown",
      "metadata": {
        "id": "ae35ce9954e4"
      },
      "source": [
        "#### Initialize Vertex AI SDK for Python\n",
        "\n",
        "Initialize the Vertex AI SDK for Python for your project and corresponding bucket."
      ]
    },
    {
      "cell_type": "code",
      "execution_count": 8,
      "metadata": {
        "id": "a4f61991b160"
      },
      "outputs": [],
      "source": [
        "from google.cloud import aiplatform\n",
        "\n",
        "aiplatform.init(project=PROJECT_ID, location=LOCATION, staging_bucket=BUCKET_URI)"
      ]
    },
    {
      "cell_type": "markdown",
      "metadata": {
        "id": "setup_vars"
      },
      "source": [
        "### Import libraries and define constants"
      ]
    },
    {
      "cell_type": "code",
      "execution_count": 9,
      "metadata": {
        "id": "8a9846bc4a2e"
      },
      "outputs": [],
      "source": [
        "import os\n",
        "\n",
        "import numpy as np\n",
        "from PIL import Image"
      ]
    },
    {
      "cell_type": "code",
      "source": [
        "\n",
        "from google import genai\n",
        "from google.genai.types import HttpOptions\n",
        "\n",
        "client = genai.Client(http_options=HttpOptions(api_version=\"v1\"))\n",
        "response = client.models.compute_tokens(\n",
        "    model=\"gemini-2.0-flash-001\",\n",
        "    contents=\"What's the longest word in the English language?\",\n",
        ")\n",
        "print(response)"
      ],
      "metadata": {
        "id": "OsM5fCWYgM5i",
        "outputId": "821deb03-0ef8-43b8-fb80-b2e3316047c7",
        "colab": {
          "base_uri": "https://localhost:8080/",
          "height": 382
        }
      },
      "execution_count": 10,
      "outputs": [
        {
          "output_type": "error",
          "ename": "ValueError",
          "evalue": "Missing key inputs argument! To use the Google AI API,provide (`api_key`) arguments. To use the Google Cloud API, provide (`vertexai`, `project` & `location`) arguments.",
          "traceback": [
            "\u001b[0;31m---------------------------------------------------------------------------\u001b[0m",
            "\u001b[0;31mValueError\u001b[0m                                Traceback (most recent call last)",
            "\u001b[0;32m<ipython-input-10-9d505d173a5f>\u001b[0m in \u001b[0;36m<cell line: 0>\u001b[0;34m()\u001b[0m\n\u001b[1;32m      2\u001b[0m \u001b[0;32mfrom\u001b[0m \u001b[0mgoogle\u001b[0m\u001b[0;34m.\u001b[0m\u001b[0mgenai\u001b[0m\u001b[0;34m.\u001b[0m\u001b[0mtypes\u001b[0m \u001b[0;32mimport\u001b[0m \u001b[0mHttpOptions\u001b[0m\u001b[0;34m\u001b[0m\u001b[0;34m\u001b[0m\u001b[0m\n\u001b[1;32m      3\u001b[0m \u001b[0;34m\u001b[0m\u001b[0m\n\u001b[0;32m----> 4\u001b[0;31m \u001b[0mclient\u001b[0m \u001b[0;34m=\u001b[0m \u001b[0mgenai\u001b[0m\u001b[0;34m.\u001b[0m\u001b[0mClient\u001b[0m\u001b[0;34m(\u001b[0m\u001b[0mhttp_options\u001b[0m\u001b[0;34m=\u001b[0m\u001b[0mHttpOptions\u001b[0m\u001b[0;34m(\u001b[0m\u001b[0mapi_version\u001b[0m\u001b[0;34m=\u001b[0m\u001b[0;34m\"v1\"\u001b[0m\u001b[0;34m)\u001b[0m\u001b[0;34m)\u001b[0m\u001b[0;34m\u001b[0m\u001b[0;34m\u001b[0m\u001b[0m\n\u001b[0m\u001b[1;32m      5\u001b[0m response = client.models.compute_tokens(\n\u001b[1;32m      6\u001b[0m     \u001b[0mmodel\u001b[0m\u001b[0;34m=\u001b[0m\u001b[0;34m\"gemini-2.0-flash-001\"\u001b[0m\u001b[0;34m,\u001b[0m\u001b[0;34m\u001b[0m\u001b[0;34m\u001b[0m\u001b[0m\n",
            "\u001b[0;32m/usr/local/lib/python3.11/dist-packages/google/genai/client.py\u001b[0m in \u001b[0;36m__init__\u001b[0;34m(self, vertexai, api_key, credentials, project, location, debug_config, http_options)\u001b[0m\n\u001b[1;32m    196\u001b[0m     \u001b[0mself\u001b[0m\u001b[0;34m.\u001b[0m\u001b[0m_debug_config\u001b[0m \u001b[0;34m=\u001b[0m \u001b[0mdebug_config\u001b[0m \u001b[0;32mor\u001b[0m \u001b[0mDebugConfig\u001b[0m\u001b[0;34m(\u001b[0m\u001b[0;34m)\u001b[0m\u001b[0;34m\u001b[0m\u001b[0;34m\u001b[0m\u001b[0m\n\u001b[1;32m    197\u001b[0m \u001b[0;34m\u001b[0m\u001b[0m\n\u001b[0;32m--> 198\u001b[0;31m     self._api_client = self._get_api_client(\n\u001b[0m\u001b[1;32m    199\u001b[0m         \u001b[0mvertexai\u001b[0m\u001b[0;34m=\u001b[0m\u001b[0mvertexai\u001b[0m\u001b[0;34m,\u001b[0m\u001b[0;34m\u001b[0m\u001b[0;34m\u001b[0m\u001b[0m\n\u001b[1;32m    200\u001b[0m         \u001b[0mapi_key\u001b[0m\u001b[0;34m=\u001b[0m\u001b[0mapi_key\u001b[0m\u001b[0;34m,\u001b[0m\u001b[0;34m\u001b[0m\u001b[0;34m\u001b[0m\u001b[0m\n",
            "\u001b[0;32m/usr/local/lib/python3.11/dist-packages/google/genai/client.py\u001b[0m in \u001b[0;36m_get_api_client\u001b[0;34m(vertexai, api_key, credentials, project, location, debug_config, http_options)\u001b[0m\n\u001b[1;32m    241\u001b[0m       )\n\u001b[1;32m    242\u001b[0m \u001b[0;34m\u001b[0m\u001b[0m\n\u001b[0;32m--> 243\u001b[0;31m     return BaseApiClient(\n\u001b[0m\u001b[1;32m    244\u001b[0m         \u001b[0mvertexai\u001b[0m\u001b[0;34m=\u001b[0m\u001b[0mvertexai\u001b[0m\u001b[0;34m,\u001b[0m\u001b[0;34m\u001b[0m\u001b[0;34m\u001b[0m\u001b[0m\n\u001b[1;32m    245\u001b[0m         \u001b[0mapi_key\u001b[0m\u001b[0;34m=\u001b[0m\u001b[0mapi_key\u001b[0m\u001b[0;34m,\u001b[0m\u001b[0;34m\u001b[0m\u001b[0;34m\u001b[0m\u001b[0m\n",
            "\u001b[0;32m/usr/local/lib/python3.11/dist-packages/google/genai/_api_client.py\u001b[0m in \u001b[0;36m__init__\u001b[0;34m(self, vertexai, api_key, credentials, project, location, http_options)\u001b[0m\n\u001b[1;32m    385\u001b[0m     \u001b[0;32melse\u001b[0m\u001b[0;34m:\u001b[0m  \u001b[0;31m# Implicit initialization or missing arguments.\u001b[0m\u001b[0;34m\u001b[0m\u001b[0;34m\u001b[0m\u001b[0m\n\u001b[1;32m    386\u001b[0m       \u001b[0;32mif\u001b[0m \u001b[0;32mnot\u001b[0m \u001b[0mself\u001b[0m\u001b[0;34m.\u001b[0m\u001b[0mapi_key\u001b[0m\u001b[0;34m:\u001b[0m\u001b[0;34m\u001b[0m\u001b[0;34m\u001b[0m\u001b[0m\n\u001b[0;32m--> 387\u001b[0;31m         raise ValueError(\n\u001b[0m\u001b[1;32m    388\u001b[0m             \u001b[0;34m'Missing key inputs argument! To use the Google AI API,'\u001b[0m\u001b[0;34m\u001b[0m\u001b[0;34m\u001b[0m\u001b[0m\n\u001b[1;32m    389\u001b[0m             \u001b[0;34m'provide (`api_key`) arguments. To use the Google Cloud API,'\u001b[0m\u001b[0;34m\u001b[0m\u001b[0;34m\u001b[0m\u001b[0m\n",
            "\u001b[0;31mValueError\u001b[0m: Missing key inputs argument! To use the Google AI API,provide (`api_key`) arguments. To use the Google Cloud API, provide (`vertexai`, `project` & `location`) arguments."
          ]
        }
      ]
    },
    {
      "cell_type": "code",
      "source": [
        "\n",
        "from vertexai.preview.tokenization import get_tokenizer_for_model\n",
        "\n",
        "# init local tokenzier\n",
        "tokenizer = get_tokenizer_for_model(\"gemini-1.5-flash-001\")\n",
        "\n",
        "# Count Tokens\n",
        "prompt = \"\"\"'When do you want this change to take effect: select the effective date of the transfer.\\n\\nWhy are you making this change: considering you are requesting a transfer, select \"Transfer Contingent Worker\" \\n\\nOnce all is completed, click \"Start\". A new page will open, review all the data and, if all OK, click \"Submit\". \\n\\nThe process will now flow to the current manager for them to approve the transfer:\\n\\nStep 3 - Current Manager review and approval\\n\\nAs the current manager, you will receive a notification about the request for transfer in their Workday Inbox. It can either be found on the HomePage:\\n\\nOr, via the My Tasks button on the top-right corner:\\n\\nStep 3.1 - Start Details\\n\\nAfter clicking on the task, a page with the Review action appears. The new data is marked with a blue circle on the left, and the old/removed data is marked with a red X.\\n\\nStep 3.2 - Position Management\\n\\n????????/??????????\\n\\n\\n\\nThe rest items in Start keep as is\\n\\n???????\\n\\n\\n\\n\\n\\n\\n\\n\\n\\nClick Start\\n\\n??Start\\n\\n\\n\\nDetails ????\\n\\n\\n\\nFind ?End Employment Date? and input new labor contract /agreement end date\\n\\n??????????????????/???????\\n\\n\\n\\nStart date: 2nd January- 1st July (include), End date should be 30th June 3 years later;\\n\\nStart date: 2nd July- 1st January in next year (include), End date should be 31st December 3 years later.\\n\\n?????/???????1?2?-7?1?????????????????6?30??\\n\\n?????/???????7?2?-??1?1?????????????????12?31??\\n\\n\\n\\ne.g., Start date: 2024/01/02 - 2024/07/01, \\n\\n         End date=2027/06/30 \\n\\n\\n\\n         Start date: 2024/07/02-2025/01/01, \\n\\n         End date=2027/12/31\\n\\n\\n\\n\\n\\nNote ???\\n\\nDo not edit any other information.\\n\\n????????\\n\\n\\n\\n\\n\\nAttachments ??\\n\\n\\n\\nNo need attachment\\n\\n??????\\n\\n\\n\\n\\n\\nYou can enter comments at the bottom.\\n\\n???????????????\\n\\n\\n\\nClick Submit and the process will be done after approving by relevant parties.\\n\\n?????????????????\\n\\n??Workday??????? ??->????->?????? ????\\n\\n\\n\\n\\n\\nSelect change reason: Lateral Move\\n\\n?????????\\n\\n\\n\\n\\n\\nInput effective date ??????\\n\\n\\n\\nNote: Effective date should be the day next to employee?s legal retirement day.\\n\\n????????????????(??)?????\\n\\n\\n\\n\\n\\nUse Next Pay Period: keep as is\\n\\n?????????????: ????\\n\\n\\n\\nClick on Start ?? ??\\n\\n\\n\\n\\n\\nPosition: Keep as-is.\\n\\n?? ????\\n\\n\\n\\n(Optional) Maintain Job Profile and Job Title ?????? ?????\\n\\n\\n\\nJob Profile:\\n\\n\\n\\nClick Job Profile to select new Job Profile if needed, otherwise keep it as is.\\n\\n???????????, ?????????????????\\n\\n\\n\\nJob Title :\\n\\n(Job Title will be populated automatically based on Job Profile, it will be reflected in Teams/Outlook. Please ensure Job Level is removed from Job Title\\n\\n???????????????????Outlook?Teams????????????????)\\n\\n\\n\\nClick Job Title to input new Job Title, remove Job Level from Job Title\\n\\n??????, ?????????????\\n\\n\\n\\n\\n\\n(Optional) Maintain Location ????\\n\\n\\n\\nUpdate Location information if need, otherwise keep as is.\\n\\n????????,???????\\n\\n\\n\\nNote:\\n\\nStep 2 - Initiate Job Change\\n\\nGo to the Contingent Worker\\'s profile and follow the path: Actions > Job Change > Start Job Change.\\n\\nA new screen will open to initiate the Job Change actions. Here you can see the name of the contingent worker, the job profile, and the action you need to take (please note that \"Change Contingent Worker Details\" is the only option available).\\n\\nClick \"OK\".\\n\\nStep 2.1 - Start Details\\n\\nSelect the effective date in the field, \"When do you want this change to take effect?\". The effective date is typically the following day of the current Contract End Date.\\n\\nStep 2.2 - Contract Details\\n\\nSelect the updated \"Contract End Date\" (please note that the new contract period should not be longer than 1 year).\\n\\nAdditional information in FAQ format\\n\\nHow to get reports for all the externals in my function?\\n\\nYou can raise a case via Workday\\n\\nI started the worker\\'s extension after the contract end date and their account has already been disabled, what do I need to do?\\n\\nUse Next Pay Period: keep as is\\n\\n?????????????:????\\n\\n\\n\\nClick on Start ????\\n\\n\\n\\n\\n\\nPosition: Keep as-is.\\n\\n?? ????\\n\\n\\n\\n(Optional) Maintain Job Profile and Job Title???????????\\n\\n\\n\\nJob Profile:\\n\\n\\n\\nClick Job Profile to select new Job Profile if needed, otherwise keep it as is.\\n\\n???????????, ?????????????????\\n\\n\\n\\nJob Title :\\n\\n(Job Title will be populated automatically based on Job Profile, it will be reflected in Teams/Outlook. Please ensure Job Level is removed from Job Title\\n\\n???????????????????Outlook?Teams????????????????)\\n\\n\\n\\nClick Job Title to input new Job Title, remove Job Level from Job Title\\n\\n??????, ?????????????\\n\\n\\n\\n\\n\\n(Optional) Maintain Location ????\\n\\n\\n\\nUpdate Location information if need, otherwise keep as is.\\n\\n????????,???????\\n\\n\\n\\nEdit Schedule weekly hours?40\\n\\n?????? ????40\\n\\n\\n\\n(Optional)\\n\\nMaintain Organization information????????\\n\\n\\n\\nEdit Company, Cost Center, Brand if need, otherwise keep as is. ????????,????,??, ???????'\"\"\"\n",
        "response = tokenizer.count_tokens(prompt)\n",
        "print(f\"Tokens count: {response.total_tokens}\")\n",
        "# Example response:\n",
        "#       Tokens count: 6\n",
        "\n",
        "# Compute Tokens\n",
        "response = tokenizer.compute_tokens(prompt)\n",
        "print(f\"Tokens list: {response.tokens_info}\")"
      ],
      "metadata": {
        "id": "PGSLPEC8ga6-",
        "outputId": "b86e6018-a29c-4cb2-d987-60cc1c45953a",
        "colab": {
          "base_uri": "https://localhost:8080/"
        }
      },
      "execution_count": 12,
      "outputs": [
        {
          "output_type": "stream",
          "name": "stdout",
          "text": [
            "Tokens count: 1142\n",
            "Tokens list: [TokensInfo(token_ids=[235303, 4115, 749, 692, 1938, 736, 2669, 577, 1987, 4232, 235292, 6616, 573, 7017, 3209, 576, 573, 5853, 235265, 109, 4385, 708, 692, 3547, 736, 2669, 235292, 14113, 692, 708, 51174, 476, 5853, 235269, 6616, 664, 22547, 129582, 579, 52167, 235281, 235248, 109, 14326, 832, 603, 8735, 235269, 5499, 664, 5089, 2776, 586, 888, 2602, 877, 2174, 235269, 3221, 832, 573, 1423, 578, 235269, 1013, 832, 11530, 235269, 5499, 664, 14921, 2776, 235248, 109, 651, 2185, 877, 1490, 3781, 577, 573, 2474, 8866, 604, 1174, 577, 35344, 573, 5853, 235292, 109, 5856, 235248, 235304, 728, 12344, 10713, 3221, 578, 15560, 109, 2169, 573, 2474, 8866, 235269, 692, 877, 6427, 476, 21244, 1105, 573, 3853, 604, 5853, 575, 1024, 5624, 1311, 170766, 235265, 1165, 798, 3906, 614, 1942, 611, 573, 94966, 235292, 109, 2556, 235269, 3998, 573, 2961, 63960, 6086, 611, 573, 2267, 235290, 1331, 10429, 235292, 109, 5856, 235248, 235304, 235265, 235274, 728, 7248, 9579, 109, 5514, 24212, 611, 573, 6911, 235269, 476, 2602, 675, 573, 5973, 3105, 8149, 235265, 714, 888, 1423, 603, 10705, 675, 476, 3868, 11698, 611, 573, 2731, 235269, 578, 573, 2187, 235283, 37075, 1423, 603, 10705, 675, 476, 3118, 1576, 235265, 109, 5856, 235248, 235304, 235265, 235284, 728, 21374, 7219, 109, 73333, 235283, 73333, 4481, 111, 651, 2066, 5100, 575, 7248, 2745, 685, 603, 109, 199894, 117, 3135, 7248, 109, 4481, 5089, 111, 7410, 63015, 111, 9083, 1654, 3898, 33310, 4372, 235336, 578, 3772, 888, 6379, 7613, 1148, 102972, 1580, 3209, 109, 230129, 4481, 235283, 199894, 111, 5089, 3209, 235292, 235248, 235284, 491, 5468, 235290, 235248, 235274, 490, 4707, 591, 1915, 823, 6567, 3209, 1412, 614, 235248, 235304, 235276, 489, 4456, 235248, 235304, 1658, 3416, 235289, 109, 5089, 3209, 235292, 235248, 235284, 491, 4707, 235290, 235248, 235274, 490, 5468, 575, 2351, 1162, 591, 1915, 823, 6567, 3209, 1412, 614, 235248, 235304, 235274, 490, 5824, 235248, 235304, 1658, 3416, 235265, 109, 72172, 235283, 199894, 235274, 235336, 235284, 47249, 235324, 235336, 235274, 73333, 19440, 72172, 235318, 235336, 235304, 235276, 4481, 109, 72172, 235283, 199894, 235324, 235336, 235284, 47249, 4481, 235274, 235336, 235274, 73333, 19440, 72172, 235274, 235284, 235336, 235304, 235274, 4481, 111, 235249, 235265, 235264, 1173, 7248, 3209, 235292, 235248, 235284, 235276, 235284, 235310, 235283, 235276, 235274, 235283, 235276, 235284, 728, 235248, 235284, 235276, 235284, 235310, 235283, 235276, 235324, 235283, 235276, 235274, 235269, 235248, 109, 146, 3898, 3209, 235293, 235284, 235276, 235284, 235324, 235283, 235276, 235318, 235283, 235304, 235276, 235248, 111, 146, 5089, 3209, 235292, 235248, 235284, 235276, 235284, 235310, 235283, 235276, 235324, 235283, 235276, 235284, 235290, 235284, 235276, 235284, 235308, 235283, 235276, 235274, 235283, 235276, 235274, 235269, 235248, 109, 146, 3898, 3209, 235293, 235284, 235276, 235284, 235324, 235283, 235274, 235284, 235283, 235304, 235274, 113, 5041, 35232, 109, 2795, 780, 9387, 1089, 1156, 2113, 235265, 109, 73333, 113, 78008, 11609, 111, 1294, 1476, 24599, 109, 102201, 113, 2045, 798, 3343, 4703, 696, 573, 6837, 235265, 109, 73333, 199894, 111, 3135, 43998, 578, 573, 2185, 877, 614, 3015, 1452, 106688, 731, 9666, 8600, 235265, 109, 73333, 19440, 72172, 109, 4481, 7084, 1311, 199894, 11609, 949, 19440, 949, 102201, 63015, 113, 8659, 2669, 3519, 235292, 97034, 15232, 109, 19440, 72172, 113, 3678, 7017, 3209, 139965, 111, 5041, 235292, 40918, 3209, 1412, 614, 573, 1744, 2351, 577, 11946, 235336, 235256, 7035, 22531, 1744, 235265, 109, 230129, 235278, 229292, 72172, 113, 7056, 10210, 8138, 26678, 235292, 2745, 685, 603, 109, 73333, 19440, 7846, 63015, 111, 3135, 611, 7248, 11609, 11609, 113, 7163, 235292, 13130, 685, 235290, 502, 235265, 109, 4481, 63015, 111, 235278, 19037, 235275, 74096, 13583, 17416, 578, 13583, 14561, 139965, 118048, 111, 11397, 17416, 235292, 111, 3135, 13583, 17416, 577, 6616, 888, 13583, 17416, 1013, 4880, 235269, 8481, 2745, 665, 685, 603, 235265, 109, 73333, 12505, 235269, 1654, 230129, 111, 11397, 14561, 865, 109, 235278, 11397, 14561, 877, 614, 62214, 11650, 3482, 611, 13583, 17416, 235269, 665, 877, 614, 23913, 575, 36477, 235283, 84013, 235265, 5651, 7433, 13583, 10858, 603, 8701, 774, 13583, 14561, 109, 230129, 12505, 84013, 235336, 53335, 230129, 235275, 111, 3135, 13583, 14561, 577, 3772, 888, 13583, 14561, 235269, 6504, 13583, 10858, 774, 13583, 14561, 109, 102201, 235269, 1654, 73333, 19440, 113, 235278, 19037, 235275, 74096, 14741, 63015, 111, 5534, 14741, 2113, 1013, 1476, 235269, 8481, 2745, 685, 603, 235265, 109, 73333, 235269, 199894, 111, 5041, 235292, 109, 5856, 235248, 235284, 728, 193960, 13583, 11459, 109, 4929, 577, 573, 129582, 579, 52167, 235303, 235256, 8959, 578, 1611, 573, 3703, 235292, 39245, 1562, 13583, 11459, 1562, 7248, 13583, 11459, 235265, 109, 235280, 888, 5299, 877, 2174, 577, 51917, 573, 13583, 11459, 8737, 235265, 5698, 692, 798, 1443, 573, 1503, 576, 573, 69677, 16585, 235269, 573, 3356, 8959, 235269, 578, 573, 3105, 692, 1476, 577, 1987, 591, 24926, 4670, 674, 664, 6443, 129582, 579, 52167, 9579, 235281, 603, 573, 1297, 4984, 2506, 846, 109, 3135, 664, 4083, 2776, 109, 5856, 235248, 235284, 235265, 235274, 728, 7248, 9579, 109, 8659, 573, 7017, 3209, 575, 573, 2725, 235269, 664, 4115, 749, 692, 1938, 736, 2669, 577, 1987, 4232, 100269, 714, 7017, 3209, 603, 15976, 573, 2412, 1744, 576, 573, 2474, 30975, 6567, 4372, 235265, 109, 5856, 235248, 235284, 235265, 235284, 728, 30975, 9579, 109, 8659, 573, 9894, 664, 19490, 6567, 4372, 235281, 591, 24926, 4670, 674, 573, 888, 7613, 4037, 1412, 780, 614, 5543, 1178, 235248, 235274, 1162, 846, 109, 15968, 2113, 575, 22217, 5920, 109, 2299, 577, 947, 8134, 604, 832, 573, 11065, 1151, 575, 970, 1411, 235336, 109, 2045, 798, 12310, 476, 2270, 3998, 5624, 1311, 109, 235285, 4604, 573, 16585, 235303, 235256, 10957, 1452, 573, 7613, 1580, 3209, 578, 1024, 3185, 919, 3303, 1125, 20663, 235269, 1212, 749, 590, 1476, 577, 749, 235336, 109, 7056, 10210, 8138, 26678, 235292, 2745, 685, 603, 109, 73333, 19440, 7846, 19440, 111, 3135, 611, 7248, 63015, 113, 7163, 235292, 13130, 685, 235290, 502, 235265, 109, 4481, 63015, 111, 235278, 19037, 235275, 74096, 13583, 17416, 578, 13583, 14561, 73333, 12505, 111, 11397, 17416, 235292, 111, 3135, 13583, 17416, 577, 6616, 888, 13583, 17416, 1013, 4880, 235269, 8481, 2745, 665, 685, 603, 235265, 109, 73333, 12505, 235269, 1654, 230129, 111, 11397, 14561, 865, 109, 235278, 11397, 14561, 877, 614, 62214, 11650, 3482, 611, 13583, 17416, 235269, 665, 877, 614, 23913, 575, 36477, 235283, 84013, 235265, 5651, 7433, 13583, 10858, 603, 8701, 774, 13583, 14561, 109, 230129, 12505, 84013, 235336, 53335, 230129, 235275, 111, 3135, 13583, 14561, 577, 3772, 888, 13583, 14561, 235269, 6504, 13583, 10858, 774, 13583, 14561, 109, 102201, 235269, 1654, 73333, 19440, 113, 235278, 19037, 235275, 74096, 14741, 63015, 111, 5534, 14741, 2113, 1013, 1476, 235269, 8481, 2745, 685, 603, 235265, 109, 73333, 235269, 199894, 111, 4597, 25653, 18738, 3763, 235336, 235310, 235276, 109, 102201, 63015, 235310, 235276, 111, 235278, 19037, 235275, 109, 115724, 19847, 2113, 73333, 111, 4597, 6210, 235269, 8449, 5714, 235269, 11061, 1013, 1476, 235269, 8481, 2745, 685, 603, 235265, 118048, 12505, 235269, 19440, 235269, 4481, 235269, 1654, 102201, 235303], tokens=[b\"'\", b'When', b' do', b' you', b' want', b' this', b' change', b' to', b' take', b' effect', b':', b' select', b' the', b' effective', b' date', b' of', b' the', b' transfer', b'.', b'\\n\\n', b'Why', b' are', b' you', b' making', b' this', b' change', b':', b' considering', b' you', b' are', b' requesting', b' a', b' transfer', b',', b' select', b' \"', b'Transfer', b' Conting', b'ent', b' Worker', b'\"', b' ', b'\\n\\n', b'Once', b' all', b' is', b' completed', b',', b' click', b' \"', b'Start', b'\".', b' A', b' new', b' page', b' will', b' open', b',', b' review', b' all', b' the', b' data', b' and', b',', b' if', b' all', b' OK', b',', b' click', b' \"', b'Submit', b'\".', b' ', b'\\n\\n', b'The', b' process', b' will', b' now', b' flow', b' to', b' the', b' current', b' manager', b' for', b' them', b' to', b' approve', b' the', b' transfer', b':', b'\\n\\n', b'Step', b' ', b'3', b' -', b' Current', b' Manager', b' review', b' and', b' approval', b'\\n\\n', b'As', b' the', b' current', b' manager', b',', b' you', b' will', b' receive', b' a', b' notification', b' about', b' the', b' request', b' for', b' transfer', b' in', b' their', b' Work', b'day', b' Inbox', b'.', b' It', b' can', b' either', b' be', b' found', b' on', b' the', b' HomePage', b':', b'\\n\\n', b'Or', b',', b' via', b' the', b' My', b' Tasks', b' button', b' on', b' the', b' top', b'-', b'right', b' corner', b':', b'\\n\\n', b'Step', b' ', b'3', b'.', b'1', b' -', b' Start', b' Details', b'\\n\\n', b'After', b' clicking', b' on', b' the', b' task', b',', b' a', b' page', b' with', b' the', b' Review', b' action', b' appears', b'.', b' The', b' new', b' data', b' is', b' marked', b' with', b' a', b' blue', b' circle', b' on', b' the', b' left', b',', b' and', b' the', b' old', b'/', b'removed', b' data', b' is', b' marked', b' with', b' a', b' red', b' X', b'.', b'\\n\\n', b'Step', b' ', b'3', b'.', b'2', b' -', b' Position', b' Management', b'\\n\\n', b'????????', b'/', b'????????', b'??', b'\\n\\n\\n\\n', b'The', b' rest', b' items', b' in', b' Start', b' keep', b' as', b' is', b'\\n\\n', b'???????', b'\\n\\n\\n\\n\\n\\n\\n\\n\\n\\n', b'Click', b' Start', b'\\n\\n', b'??', b'Start', b'\\n\\n\\n\\n', b'Details', b' ????', b'\\n\\n\\n\\n', b'Find', b' ?', b'End', b' Employment', b' Date', b'?', b' and', b' input', b' new', b' labor', b' contract', b' /', b'agreement', b' end', b' date', b'\\n\\n', b'????????????????', b'??', b'/', b'???????', b'\\n\\n\\n\\n', b'Start', b' date', b':', b' ', b'2', b'nd', b' January', b'-', b' ', b'1', b'st', b' July', b' (', b'include', b'),', b' End', b' date', b' should', b' be', b' ', b'3', b'0', b'th', b' June', b' ', b'3', b' years', b' later', b';', b'\\n\\n', b'Start', b' date', b':', b' ', b'2', b'nd', b' July', b'-', b' ', b'1', b'st', b' January', b' in', b' next', b' year', b' (', b'include', b'),', b' End', b' date', b' should', b' be', b' ', b'3', b'1', b'st', b' December', b' ', b'3', b' years', b' later', b'.', b'\\n\\n', b'?????', b'/', b'???????', b'1', b'?', b'2', b'?-', b'7', b'?', b'1', b'????????', b'????', b'?????', b'6', b'?', b'3', b'0', b'??', b'\\n\\n', b'?????', b'/', b'???????', b'7', b'?', b'2', b'?-', b'??', b'1', b'?', b'1', b'????????', b'????', b'?????', b'1', b'2', b'?', b'3', b'1', b'??', b'\\n\\n\\n\\n', b'e', b'.', b'g', b'.,', b' Start', b' date', b':', b' ', b'2', b'0', b'2', b'4', b'/', b'0', b'1', b'/', b'0', b'2', b' -', b' ', b'2', b'0', b'2', b'4', b'/', b'0', b'7', b'/', b'0', b'1', b',', b' ', b'\\n\\n', b'         ', b'End', b' date', b'=', b'2', b'0', b'2', b'7', b'/', b'0', b'6', b'/', b'3', b'0', b' ', b'\\n\\n\\n\\n', b'         ', b'Start', b' date', b':', b' ', b'2', b'0', b'2', b'4', b'/', b'0', b'7', b'/', b'0', b'2', b'-', b'2', b'0', b'2', b'5', b'/', b'0', b'1', b'/', b'0', b'1', b',', b' ', b'\\n\\n', b'         ', b'End', b' date', b'=', b'2', b'0', b'2', b'7', b'/', b'1', b'2', b'/', b'3', b'1', b'\\n\\n\\n\\n\\n\\n', b'Note', b' ???', b'\\n\\n', b'Do', b' not', b' edit', b' any', b' other', b' information', b'.', b'\\n\\n', b'????????', b'\\n\\n\\n\\n\\n\\n', b'Attachments', b' ??', b'\\n\\n\\n\\n', b'No', b' need', b' attachment', b'\\n\\n', b'??????', b'\\n\\n\\n\\n\\n\\n', b'You', b' can', b' enter', b' comments', b' at', b' the', b' bottom', b'.', b'\\n\\n', b'????????', b'???????', b'\\n\\n\\n\\n', b'Click', b' Submit', b' and', b' the', b' process', b' will', b' be', b' done', b' after', b' approving', b' by', b' relevant', b' parties', b'.', b'\\n\\n', b'????????', b'????', b'?????', b'\\n\\n', b'??', b'Work', b'day', b'???????', b' ??', b'->', b'????', b'->', b'??????', b' ????', b'\\n\\n\\n\\n\\n\\n', b'Select', b' change', b' reason', b':', b' Lateral', b' Move', b'\\n\\n', b'????', b'?????', b'\\n\\n\\n\\n\\n\\n', b'Input', b' effective', b' date', b' ??????', b'\\n\\n\\n\\n', b'Note', b':', b' Effective', b' date', b' should', b' be', b' the', b' day', b' next', b' to', b' employee', b'?', b's', b' legal', b' retirement', b' day', b'.', b'\\n\\n', b'????????????????', b'(', b'??)', b'?????', b'\\n\\n\\n\\n\\n\\n', b'Use', b' Next', b' Pay', b' Period', b':', b' keep', b' as', b' is', b'\\n\\n', b'????????', b'????', b'?:', b' ????', b'\\n\\n\\n\\n', b'Click', b' on', b' Start', b' ??', b' ??', b'\\n\\n\\n\\n\\n\\n', b'Position', b':', b' Keep', b' as', b'-', b'is', b'.', b'\\n\\n', b'??', b' ????', b'\\n\\n\\n\\n', b'(', b'Optional', b')', b' Maintain', b' Job', b' Profile', b' and', b' Job', b' Title', b' ??????', b' ?????', b'\\n\\n\\n\\n', b'Job', b' Profile', b':', b'\\n\\n\\n\\n', b'Click', b' Job', b' Profile', b' to', b' select', b' new', b' Job', b' Profile', b' if', b' needed', b',', b' otherwise', b' keep', b' it', b' as', b' is', b'.', b'\\n\\n', b'????????', b'???', b',', b' ?', b'????????????????', b'\\n\\n\\n\\n', b'Job', b' Title', b' :', b'\\n\\n', b'(', b'Job', b' Title', b' will', b' be', b' populated', b' automatically', b' based', b' on', b' Job', b' Profile', b',', b' it', b' will', b' be', b' reflected', b' in', b' Teams', b'/', b'Outlook', b'.', b' Please', b' ensure', b' Job', b' Level', b' is', b' removed', b' from', b' Job', b' Title', b'\\n\\n', b'????????????????', b'???', b'Outlook', b'?', b'Teams', b'????????????????', b')', b'\\n\\n\\n\\n', b'Click', b' Job', b' Title', b' to', b' input', b' new', b' Job', b' Title', b',', b' remove', b' Job', b' Level', b' from', b' Job', b' Title', b'\\n\\n', b'??????', b',', b' ?', b'????????', b'????', b'\\n\\n\\n\\n\\n\\n', b'(', b'Optional', b')', b' Maintain', b' Location', b' ????', b'\\n\\n\\n\\n', b'Update', b' Location', b' information', b' if', b' need', b',', b' otherwise', b' keep', b' as', b' is', b'.', b'\\n\\n', b'????????', b',', b'???????', b'\\n\\n\\n\\n', b'Note', b':', b'\\n\\n', b'Step', b' ', b'2', b' -', b' Initiate', b' Job', b' Change', b'\\n\\n', b'Go', b' to', b' the', b' Conting', b'ent', b' Worker', b\"'\", b's', b' profile', b' and', b' follow', b' the', b' path', b':', b' Actions', b' >', b' Job', b' Change', b' >', b' Start', b' Job', b' Change', b'.', b'\\n\\n', b'A', b' new', b' screen', b' will', b' open', b' to', b' initiate', b' the', b' Job', b' Change', b' actions', b'.', b' Here', b' you', b' can', b' see', b' the', b' name', b' of', b' the', b' contingent', b' worker', b',', b' the', b' job', b' profile', b',', b' and', b' the', b' action', b' you', b' need', b' to', b' take', b' (', b'please', b' note', b' that', b' \"', b'Change', b' Conting', b'ent', b' Worker', b' Details', b'\"', b' is', b' the', b' only', b' option', b' available', b').', b'\\n\\n', b'Click', b' \"', b'OK', b'\".', b'\\n\\n', b'Step', b' ', b'2', b'.', b'1', b' -', b' Start', b' Details', b'\\n\\n', b'Select', b' the', b' effective', b' date', b' in', b' the', b' field', b',', b' \"', b'When', b' do', b' you', b' want', b' this', b' change', b' to', b' take', b' effect', b'?\".', b' The', b' effective', b' date', b' is', b' typically', b' the', b' following', b' day', b' of', b' the', b' current', b' Contract', b' End', b' Date', b'.', b'\\n\\n', b'Step', b' ', b'2', b'.', b'2', b' -', b' Contract', b' Details', b'\\n\\n', b'Select', b' the', b' updated', b' \"', b'Contract', b' End', b' Date', b'\"', b' (', b'please', b' note', b' that', b' the', b' new', b' contract', b' period', b' should', b' not', b' be', b' longer', b' than', b' ', b'1', b' year', b').', b'\\n\\n', b'Additional', b' information', b' in', b' FAQ', b' format', b'\\n\\n', b'How', b' to', b' get', b' reports', b' for', b' all', b' the', b' extern', b'als', b' in', b' my', b' function', b'?', b'\\n\\n', b'You', b' can', b' raise', b' a', b' case', b' via', b' Work', b'day', b'\\n\\n', b'I', b' started', b' the', b' worker', b\"'\", b's', b' extension', b' after', b' the', b' contract', b' end', b' date', b' and', b' their', b' account', b' has', b' already', b' been', b' disabled', b',', b' what', b' do', b' I', b' need', b' to', b' do', b'?', b'\\n\\n', b'Use', b' Next', b' Pay', b' Period', b':', b' keep', b' as', b' is', b'\\n\\n', b'????????', b'????', b'?:', b'????', b'\\n\\n\\n\\n', b'Click', b' on', b' Start', b' ????', b'\\n\\n\\n\\n\\n\\n', b'Position', b':', b' Keep', b' as', b'-', b'is', b'.', b'\\n\\n', b'??', b' ????', b'\\n\\n\\n\\n', b'(', b'Optional', b')', b' Maintain', b' Job', b' Profile', b' and', b' Job', b' Title', b'????????', b'???', b'\\n\\n\\n\\n', b'Job', b' Profile', b':', b'\\n\\n\\n\\n', b'Click', b' Job', b' Profile', b' to', b' select', b' new', b' Job', b' Profile', b' if', b' needed', b',', b' otherwise', b' keep', b' it', b' as', b' is', b'.', b'\\n\\n', b'????????', b'???', b',', b' ?', b'????????????????', b'\\n\\n\\n\\n', b'Job', b' Title', b' :', b'\\n\\n', b'(', b'Job', b' Title', b' will', b' be', b' populated', b' automatically', b' based', b' on', b' Job', b' Profile', b',', b' it', b' will', b' be', b' reflected', b' in', b' Teams', b'/', b'Outlook', b'.', b' Please', b' ensure', b' Job', b' Level', b' is', b' removed', b' from', b' Job', b' Title', b'\\n\\n', b'????????????????', b'???', b'Outlook', b'?', b'Teams', b'????????????????', b')', b'\\n\\n\\n\\n', b'Click', b' Job', b' Title', b' to', b' input', b' new', b' Job', b' Title', b',', b' remove', b' Job', b' Level', b' from', b' Job', b' Title', b'\\n\\n', b'??????', b',', b' ?', b'????????', b'????', b'\\n\\n\\n\\n\\n\\n', b'(', b'Optional', b')', b' Maintain', b' Location', b' ????', b'\\n\\n\\n\\n', b'Update', b' Location', b' information', b' if', b' need', b',', b' otherwise', b' keep', b' as', b' is', b'.', b'\\n\\n', b'????????', b',', b'???????', b'\\n\\n\\n\\n', b'Edit', b' Schedule', b' weekly', b' hours', b'?', b'4', b'0', b'\\n\\n', b'??????', b' ????', b'4', b'0', b'\\n\\n\\n\\n', b'(', b'Optional', b')', b'\\n\\n', b'Maintain', b' Organization', b' information', b'????????', b'\\n\\n\\n\\n', b'Edit', b' Company', b',', b' Cost', b' Center', b',', b' Brand', b' if', b' need', b',', b' otherwise', b' keep', b' as', b' is', b'.', b' ?????', b'???', b',', b'????', b',', b'??', b',', b' ?', b'??????', b\"'\"], role='user')]\n"
          ]
        }
      ]
    },
    {
      "cell_type": "code",
      "source": [
        "\n",
        "response.tokens_info[0]"
      ],
      "metadata": {
        "id": "lT1TLoU8g17n",
        "outputId": "383ba704-6d69-4116-b5cc-8f6682c81ef4",
        "colab": {
          "base_uri": "https://localhost:8080/"
        }
      },
      "execution_count": 14,
      "outputs": [
        {
          "output_type": "execute_result",
          "data": {
            "text/plain": [
              "TokensInfo(token_ids=[235303, 4115, 749, 692, 1938, 736, 2669, 577, 1987, 4232, 235292, 6616, 573, 7017, 3209, 576, 573, 5853, 235265, 109, 4385, 708, 692, 3547, 736, 2669, 235292, 14113, 692, 708, 51174, 476, 5853, 235269, 6616, 664, 22547, 129582, 579, 52167, 235281, 235248, 109, 14326, 832, 603, 8735, 235269, 5499, 664, 5089, 2776, 586, 888, 2602, 877, 2174, 235269, 3221, 832, 573, 1423, 578, 235269, 1013, 832, 11530, 235269, 5499, 664, 14921, 2776, 235248, 109, 651, 2185, 877, 1490, 3781, 577, 573, 2474, 8866, 604, 1174, 577, 35344, 573, 5853, 235292, 109, 5856, 235248, 235304, 728, 12344, 10713, 3221, 578, 15560, 109, 2169, 573, 2474, 8866, 235269, 692, 877, 6427, 476, 21244, 1105, 573, 3853, 604, 5853, 575, 1024, 5624, 1311, 170766, 235265, 1165, 798, 3906, 614, 1942, 611, 573, 94966, 235292, 109, 2556, 235269, 3998, 573, 2961, 63960, 6086, 611, 573, 2267, 235290, 1331, 10429, 235292, 109, 5856, 235248, 235304, 235265, 235274, 728, 7248, 9579, 109, 5514, 24212, 611, 573, 6911, 235269, 476, 2602, 675, 573, 5973, 3105, 8149, 235265, 714, 888, 1423, 603, 10705, 675, 476, 3868, 11698, 611, 573, 2731, 235269, 578, 573, 2187, 235283, 37075, 1423, 603, 10705, 675, 476, 3118, 1576, 235265, 109, 5856, 235248, 235304, 235265, 235284, 728, 21374, 7219, 109, 73333, 235283, 73333, 4481, 111, 651, 2066, 5100, 575, 7248, 2745, 685, 603, 109, 199894, 117, 3135, 7248, 109, 4481, 5089, 111, 7410, 63015, 111, 9083, 1654, 3898, 33310, 4372, 235336, 578, 3772, 888, 6379, 7613, 1148, 102972, 1580, 3209, 109, 230129, 4481, 235283, 199894, 111, 5089, 3209, 235292, 235248, 235284, 491, 5468, 235290, 235248, 235274, 490, 4707, 591, 1915, 823, 6567, 3209, 1412, 614, 235248, 235304, 235276, 489, 4456, 235248, 235304, 1658, 3416, 235289, 109, 5089, 3209, 235292, 235248, 235284, 491, 4707, 235290, 235248, 235274, 490, 5468, 575, 2351, 1162, 591, 1915, 823, 6567, 3209, 1412, 614, 235248, 235304, 235274, 490, 5824, 235248, 235304, 1658, 3416, 235265, 109, 72172, 235283, 199894, 235274, 235336, 235284, 47249, 235324, 235336, 235274, 73333, 19440, 72172, 235318, 235336, 235304, 235276, 4481, 109, 72172, 235283, 199894, 235324, 235336, 235284, 47249, 4481, 235274, 235336, 235274, 73333, 19440, 72172, 235274, 235284, 235336, 235304, 235274, 4481, 111, 235249, 235265, 235264, 1173, 7248, 3209, 235292, 235248, 235284, 235276, 235284, 235310, 235283, 235276, 235274, 235283, 235276, 235284, 728, 235248, 235284, 235276, 235284, 235310, 235283, 235276, 235324, 235283, 235276, 235274, 235269, 235248, 109, 146, 3898, 3209, 235293, 235284, 235276, 235284, 235324, 235283, 235276, 235318, 235283, 235304, 235276, 235248, 111, 146, 5089, 3209, 235292, 235248, 235284, 235276, 235284, 235310, 235283, 235276, 235324, 235283, 235276, 235284, 235290, 235284, 235276, 235284, 235308, 235283, 235276, 235274, 235283, 235276, 235274, 235269, 235248, 109, 146, 3898, 3209, 235293, 235284, 235276, 235284, 235324, 235283, 235274, 235284, 235283, 235304, 235274, 113, 5041, 35232, 109, 2795, 780, 9387, 1089, 1156, 2113, 235265, 109, 73333, 113, 78008, 11609, 111, 1294, 1476, 24599, 109, 102201, 113, 2045, 798, 3343, 4703, 696, 573, 6837, 235265, 109, 73333, 199894, 111, 3135, 43998, 578, 573, 2185, 877, 614, 3015, 1452, 106688, 731, 9666, 8600, 235265, 109, 73333, 19440, 72172, 109, 4481, 7084, 1311, 199894, 11609, 949, 19440, 949, 102201, 63015, 113, 8659, 2669, 3519, 235292, 97034, 15232, 109, 19440, 72172, 113, 3678, 7017, 3209, 139965, 111, 5041, 235292, 40918, 3209, 1412, 614, 573, 1744, 2351, 577, 11946, 235336, 235256, 7035, 22531, 1744, 235265, 109, 230129, 235278, 229292, 72172, 113, 7056, 10210, 8138, 26678, 235292, 2745, 685, 603, 109, 73333, 19440, 7846, 63015, 111, 3135, 611, 7248, 11609, 11609, 113, 7163, 235292, 13130, 685, 235290, 502, 235265, 109, 4481, 63015, 111, 235278, 19037, 235275, 74096, 13583, 17416, 578, 13583, 14561, 139965, 118048, 111, 11397, 17416, 235292, 111, 3135, 13583, 17416, 577, 6616, 888, 13583, 17416, 1013, 4880, 235269, 8481, 2745, 665, 685, 603, 235265, 109, 73333, 12505, 235269, 1654, 230129, 111, 11397, 14561, 865, 109, 235278, 11397, 14561, 877, 614, 62214, 11650, 3482, 611, 13583, 17416, 235269, 665, 877, 614, 23913, 575, 36477, 235283, 84013, 235265, 5651, 7433, 13583, 10858, 603, 8701, 774, 13583, 14561, 109, 230129, 12505, 84013, 235336, 53335, 230129, 235275, 111, 3135, 13583, 14561, 577, 3772, 888, 13583, 14561, 235269, 6504, 13583, 10858, 774, 13583, 14561, 109, 102201, 235269, 1654, 73333, 19440, 113, 235278, 19037, 235275, 74096, 14741, 63015, 111, 5534, 14741, 2113, 1013, 1476, 235269, 8481, 2745, 685, 603, 235265, 109, 73333, 235269, 199894, 111, 5041, 235292, 109, 5856, 235248, 235284, 728, 193960, 13583, 11459, 109, 4929, 577, 573, 129582, 579, 52167, 235303, 235256, 8959, 578, 1611, 573, 3703, 235292, 39245, 1562, 13583, 11459, 1562, 7248, 13583, 11459, 235265, 109, 235280, 888, 5299, 877, 2174, 577, 51917, 573, 13583, 11459, 8737, 235265, 5698, 692, 798, 1443, 573, 1503, 576, 573, 69677, 16585, 235269, 573, 3356, 8959, 235269, 578, 573, 3105, 692, 1476, 577, 1987, 591, 24926, 4670, 674, 664, 6443, 129582, 579, 52167, 9579, 235281, 603, 573, 1297, 4984, 2506, 846, 109, 3135, 664, 4083, 2776, 109, 5856, 235248, 235284, 235265, 235274, 728, 7248, 9579, 109, 8659, 573, 7017, 3209, 575, 573, 2725, 235269, 664, 4115, 749, 692, 1938, 736, 2669, 577, 1987, 4232, 100269, 714, 7017, 3209, 603, 15976, 573, 2412, 1744, 576, 573, 2474, 30975, 6567, 4372, 235265, 109, 5856, 235248, 235284, 235265, 235284, 728, 30975, 9579, 109, 8659, 573, 9894, 664, 19490, 6567, 4372, 235281, 591, 24926, 4670, 674, 573, 888, 7613, 4037, 1412, 780, 614, 5543, 1178, 235248, 235274, 1162, 846, 109, 15968, 2113, 575, 22217, 5920, 109, 2299, 577, 947, 8134, 604, 832, 573, 11065, 1151, 575, 970, 1411, 235336, 109, 2045, 798, 12310, 476, 2270, 3998, 5624, 1311, 109, 235285, 4604, 573, 16585, 235303, 235256, 10957, 1452, 573, 7613, 1580, 3209, 578, 1024, 3185, 919, 3303, 1125, 20663, 235269, 1212, 749, 590, 1476, 577, 749, 235336, 109, 7056, 10210, 8138, 26678, 235292, 2745, 685, 603, 109, 73333, 19440, 7846, 19440, 111, 3135, 611, 7248, 63015, 113, 7163, 235292, 13130, 685, 235290, 502, 235265, 109, 4481, 63015, 111, 235278, 19037, 235275, 74096, 13583, 17416, 578, 13583, 14561, 73333, 12505, 111, 11397, 17416, 235292, 111, 3135, 13583, 17416, 577, 6616, 888, 13583, 17416, 1013, 4880, 235269, 8481, 2745, 665, 685, 603, 235265, 109, 73333, 12505, 235269, 1654, 230129, 111, 11397, 14561, 865, 109, 235278, 11397, 14561, 877, 614, 62214, 11650, 3482, 611, 13583, 17416, 235269, 665, 877, 614, 23913, 575, 36477, 235283, 84013, 235265, 5651, 7433, 13583, 10858, 603, 8701, 774, 13583, 14561, 109, 230129, 12505, 84013, 235336, 53335, 230129, 235275, 111, 3135, 13583, 14561, 577, 3772, 888, 13583, 14561, 235269, 6504, 13583, 10858, 774, 13583, 14561, 109, 102201, 235269, 1654, 73333, 19440, 113, 235278, 19037, 235275, 74096, 14741, 63015, 111, 5534, 14741, 2113, 1013, 1476, 235269, 8481, 2745, 685, 603, 235265, 109, 73333, 235269, 199894, 111, 4597, 25653, 18738, 3763, 235336, 235310, 235276, 109, 102201, 63015, 235310, 235276, 111, 235278, 19037, 235275, 109, 115724, 19847, 2113, 73333, 111, 4597, 6210, 235269, 8449, 5714, 235269, 11061, 1013, 1476, 235269, 8481, 2745, 685, 603, 235265, 118048, 12505, 235269, 19440, 235269, 4481, 235269, 1654, 102201, 235303], tokens=[b\"'\", b'When', b' do', b' you', b' want', b' this', b' change', b' to', b' take', b' effect', b':', b' select', b' the', b' effective', b' date', b' of', b' the', b' transfer', b'.', b'\\n\\n', b'Why', b' are', b' you', b' making', b' this', b' change', b':', b' considering', b' you', b' are', b' requesting', b' a', b' transfer', b',', b' select', b' \"', b'Transfer', b' Conting', b'ent', b' Worker', b'\"', b' ', b'\\n\\n', b'Once', b' all', b' is', b' completed', b',', b' click', b' \"', b'Start', b'\".', b' A', b' new', b' page', b' will', b' open', b',', b' review', b' all', b' the', b' data', b' and', b',', b' if', b' all', b' OK', b',', b' click', b' \"', b'Submit', b'\".', b' ', b'\\n\\n', b'The', b' process', b' will', b' now', b' flow', b' to', b' the', b' current', b' manager', b' for', b' them', b' to', b' approve', b' the', b' transfer', b':', b'\\n\\n', b'Step', b' ', b'3', b' -', b' Current', b' Manager', b' review', b' and', b' approval', b'\\n\\n', b'As', b' the', b' current', b' manager', b',', b' you', b' will', b' receive', b' a', b' notification', b' about', b' the', b' request', b' for', b' transfer', b' in', b' their', b' Work', b'day', b' Inbox', b'.', b' It', b' can', b' either', b' be', b' found', b' on', b' the', b' HomePage', b':', b'\\n\\n', b'Or', b',', b' via', b' the', b' My', b' Tasks', b' button', b' on', b' the', b' top', b'-', b'right', b' corner', b':', b'\\n\\n', b'Step', b' ', b'3', b'.', b'1', b' -', b' Start', b' Details', b'\\n\\n', b'After', b' clicking', b' on', b' the', b' task', b',', b' a', b' page', b' with', b' the', b' Review', b' action', b' appears', b'.', b' The', b' new', b' data', b' is', b' marked', b' with', b' a', b' blue', b' circle', b' on', b' the', b' left', b',', b' and', b' the', b' old', b'/', b'removed', b' data', b' is', b' marked', b' with', b' a', b' red', b' X', b'.', b'\\n\\n', b'Step', b' ', b'3', b'.', b'2', b' -', b' Position', b' Management', b'\\n\\n', b'????????', b'/', b'????????', b'??', b'\\n\\n\\n\\n', b'The', b' rest', b' items', b' in', b' Start', b' keep', b' as', b' is', b'\\n\\n', b'???????', b'\\n\\n\\n\\n\\n\\n\\n\\n\\n\\n', b'Click', b' Start', b'\\n\\n', b'??', b'Start', b'\\n\\n\\n\\n', b'Details', b' ????', b'\\n\\n\\n\\n', b'Find', b' ?', b'End', b' Employment', b' Date', b'?', b' and', b' input', b' new', b' labor', b' contract', b' /', b'agreement', b' end', b' date', b'\\n\\n', b'????????????????', b'??', b'/', b'???????', b'\\n\\n\\n\\n', b'Start', b' date', b':', b' ', b'2', b'nd', b' January', b'-', b' ', b'1', b'st', b' July', b' (', b'include', b'),', b' End', b' date', b' should', b' be', b' ', b'3', b'0', b'th', b' June', b' ', b'3', b' years', b' later', b';', b'\\n\\n', b'Start', b' date', b':', b' ', b'2', b'nd', b' July', b'-', b' ', b'1', b'st', b' January', b' in', b' next', b' year', b' (', b'include', b'),', b' End', b' date', b' should', b' be', b' ', b'3', b'1', b'st', b' December', b' ', b'3', b' years', b' later', b'.', b'\\n\\n', b'?????', b'/', b'???????', b'1', b'?', b'2', b'?-', b'7', b'?', b'1', b'????????', b'????', b'?????', b'6', b'?', b'3', b'0', b'??', b'\\n\\n', b'?????', b'/', b'???????', b'7', b'?', b'2', b'?-', b'??', b'1', b'?', b'1', b'????????', b'????', b'?????', b'1', b'2', b'?', b'3', b'1', b'??', b'\\n\\n\\n\\n', b'e', b'.', b'g', b'.,', b' Start', b' date', b':', b' ', b'2', b'0', b'2', b'4', b'/', b'0', b'1', b'/', b'0', b'2', b' -', b' ', b'2', b'0', b'2', b'4', b'/', b'0', b'7', b'/', b'0', b'1', b',', b' ', b'\\n\\n', b'         ', b'End', b' date', b'=', b'2', b'0', b'2', b'7', b'/', b'0', b'6', b'/', b'3', b'0', b' ', b'\\n\\n\\n\\n', b'         ', b'Start', b' date', b':', b' ', b'2', b'0', b'2', b'4', b'/', b'0', b'7', b'/', b'0', b'2', b'-', b'2', b'0', b'2', b'5', b'/', b'0', b'1', b'/', b'0', b'1', b',', b' ', b'\\n\\n', b'         ', b'End', b' date', b'=', b'2', b'0', b'2', b'7', b'/', b'1', b'2', b'/', b'3', b'1', b'\\n\\n\\n\\n\\n\\n', b'Note', b' ???', b'\\n\\n', b'Do', b' not', b' edit', b' any', b' other', b' information', b'.', b'\\n\\n', b'????????', b'\\n\\n\\n\\n\\n\\n', b'Attachments', b' ??', b'\\n\\n\\n\\n', b'No', b' need', b' attachment', b'\\n\\n', b'??????', b'\\n\\n\\n\\n\\n\\n', b'You', b' can', b' enter', b' comments', b' at', b' the', b' bottom', b'.', b'\\n\\n', b'????????', b'???????', b'\\n\\n\\n\\n', b'Click', b' Submit', b' and', b' the', b' process', b' will', b' be', b' done', b' after', b' approving', b' by', b' relevant', b' parties', b'.', b'\\n\\n', b'????????', b'????', b'?????', b'\\n\\n', b'??', b'Work', b'day', b'???????', b' ??', b'->', b'????', b'->', b'??????', b' ????', b'\\n\\n\\n\\n\\n\\n', b'Select', b' change', b' reason', b':', b' Lateral', b' Move', b'\\n\\n', b'????', b'?????', b'\\n\\n\\n\\n\\n\\n', b'Input', b' effective', b' date', b' ??????', b'\\n\\n\\n\\n', b'Note', b':', b' Effective', b' date', b' should', b' be', b' the', b' day', b' next', b' to', b' employee', b'?', b's', b' legal', b' retirement', b' day', b'.', b'\\n\\n', b'????????????????', b'(', b'??)', b'?????', b'\\n\\n\\n\\n\\n\\n', b'Use', b' Next', b' Pay', b' Period', b':', b' keep', b' as', b' is', b'\\n\\n', b'????????', b'????', b'?:', b' ????', b'\\n\\n\\n\\n', b'Click', b' on', b' Start', b' ??', b' ??', b'\\n\\n\\n\\n\\n\\n', b'Position', b':', b' Keep', b' as', b'-', b'is', b'.', b'\\n\\n', b'??', b' ????', b'\\n\\n\\n\\n', b'(', b'Optional', b')', b' Maintain', b' Job', b' Profile', b' and', b' Job', b' Title', b' ??????', b' ?????', b'\\n\\n\\n\\n', b'Job', b' Profile', b':', b'\\n\\n\\n\\n', b'Click', b' Job', b' Profile', b' to', b' select', b' new', b' Job', b' Profile', b' if', b' needed', b',', b' otherwise', b' keep', b' it', b' as', b' is', b'.', b'\\n\\n', b'????????', b'???', b',', b' ?', b'????????????????', b'\\n\\n\\n\\n', b'Job', b' Title', b' :', b'\\n\\n', b'(', b'Job', b' Title', b' will', b' be', b' populated', b' automatically', b' based', b' on', b' Job', b' Profile', b',', b' it', b' will', b' be', b' reflected', b' in', b' Teams', b'/', b'Outlook', b'.', b' Please', b' ensure', b' Job', b' Level', b' is', b' removed', b' from', b' Job', b' Title', b'\\n\\n', b'????????????????', b'???', b'Outlook', b'?', b'Teams', b'????????????????', b')', b'\\n\\n\\n\\n', b'Click', b' Job', b' Title', b' to', b' input', b' new', b' Job', b' Title', b',', b' remove', b' Job', b' Level', b' from', b' Job', b' Title', b'\\n\\n', b'??????', b',', b' ?', b'????????', b'????', b'\\n\\n\\n\\n\\n\\n', b'(', b'Optional', b')', b' Maintain', b' Location', b' ????', b'\\n\\n\\n\\n', b'Update', b' Location', b' information', b' if', b' need', b',', b' otherwise', b' keep', b' as', b' is', b'.', b'\\n\\n', b'????????', b',', b'???????', b'\\n\\n\\n\\n', b'Note', b':', b'\\n\\n', b'Step', b' ', b'2', b' -', b' Initiate', b' Job', b' Change', b'\\n\\n', b'Go', b' to', b' the', b' Conting', b'ent', b' Worker', b\"'\", b's', b' profile', b' and', b' follow', b' the', b' path', b':', b' Actions', b' >', b' Job', b' Change', b' >', b' Start', b' Job', b' Change', b'.', b'\\n\\n', b'A', b' new', b' screen', b' will', b' open', b' to', b' initiate', b' the', b' Job', b' Change', b' actions', b'.', b' Here', b' you', b' can', b' see', b' the', b' name', b' of', b' the', b' contingent', b' worker', b',', b' the', b' job', b' profile', b',', b' and', b' the', b' action', b' you', b' need', b' to', b' take', b' (', b'please', b' note', b' that', b' \"', b'Change', b' Conting', b'ent', b' Worker', b' Details', b'\"', b' is', b' the', b' only', b' option', b' available', b').', b'\\n\\n', b'Click', b' \"', b'OK', b'\".', b'\\n\\n', b'Step', b' ', b'2', b'.', b'1', b' -', b' Start', b' Details', b'\\n\\n', b'Select', b' the', b' effective', b' date', b' in', b' the', b' field', b',', b' \"', b'When', b' do', b' you', b' want', b' this', b' change', b' to', b' take', b' effect', b'?\".', b' The', b' effective', b' date', b' is', b' typically', b' the', b' following', b' day', b' of', b' the', b' current', b' Contract', b' End', b' Date', b'.', b'\\n\\n', b'Step', b' ', b'2', b'.', b'2', b' -', b' Contract', b' Details', b'\\n\\n', b'Select', b' the', b' updated', b' \"', b'Contract', b' End', b' Date', b'\"', b' (', b'please', b' note', b' that', b' the', b' new', b' contract', b' period', b' should', b' not', b' be', b' longer', b' than', b' ', b'1', b' year', b').', b'\\n\\n', b'Additional', b' information', b' in', b' FAQ', b' format', b'\\n\\n', b'How', b' to', b' get', b' reports', b' for', b' all', b' the', b' extern', b'als', b' in', b' my', b' function', b'?', b'\\n\\n', b'You', b' can', b' raise', b' a', b' case', b' via', b' Work', b'day', b'\\n\\n', b'I', b' started', b' the', b' worker', b\"'\", b's', b' extension', b' after', b' the', b' contract', b' end', b' date', b' and', b' their', b' account', b' has', b' already', b' been', b' disabled', b',', b' what', b' do', b' I', b' need', b' to', b' do', b'?', b'\\n\\n', b'Use', b' Next', b' Pay', b' Period', b':', b' keep', b' as', b' is', b'\\n\\n', b'????????', b'????', b'?:', b'????', b'\\n\\n\\n\\n', b'Click', b' on', b' Start', b' ????', b'\\n\\n\\n\\n\\n\\n', b'Position', b':', b' Keep', b' as', b'-', b'is', b'.', b'\\n\\n', b'??', b' ????', b'\\n\\n\\n\\n', b'(', b'Optional', b')', b' Maintain', b' Job', b' Profile', b' and', b' Job', b' Title', b'????????', b'???', b'\\n\\n\\n\\n', b'Job', b' Profile', b':', b'\\n\\n\\n\\n', b'Click', b' Job', b' Profile', b' to', b' select', b' new', b' Job', b' Profile', b' if', b' needed', b',', b' otherwise', b' keep', b' it', b' as', b' is', b'.', b'\\n\\n', b'????????', b'???', b',', b' ?', b'????????????????', b'\\n\\n\\n\\n', b'Job', b' Title', b' :', b'\\n\\n', b'(', b'Job', b' Title', b' will', b' be', b' populated', b' automatically', b' based', b' on', b' Job', b' Profile', b',', b' it', b' will', b' be', b' reflected', b' in', b' Teams', b'/', b'Outlook', b'.', b' Please', b' ensure', b' Job', b' Level', b' is', b' removed', b' from', b' Job', b' Title', b'\\n\\n', b'????????????????', b'???', b'Outlook', b'?', b'Teams', b'????????????????', b')', b'\\n\\n\\n\\n', b'Click', b' Job', b' Title', b' to', b' input', b' new', b' Job', b' Title', b',', b' remove', b' Job', b' Level', b' from', b' Job', b' Title', b'\\n\\n', b'??????', b',', b' ?', b'????????', b'????', b'\\n\\n\\n\\n\\n\\n', b'(', b'Optional', b')', b' Maintain', b' Location', b' ????', b'\\n\\n\\n\\n', b'Update', b' Location', b' information', b' if', b' need', b',', b' otherwise', b' keep', b' as', b' is', b'.', b'\\n\\n', b'????????', b',', b'???????', b'\\n\\n\\n\\n', b'Edit', b' Schedule', b' weekly', b' hours', b'?', b'4', b'0', b'\\n\\n', b'??????', b' ????', b'4', b'0', b'\\n\\n\\n\\n', b'(', b'Optional', b')', b'\\n\\n', b'Maintain', b' Organization', b' information', b'????????', b'\\n\\n\\n\\n', b'Edit', b' Company', b',', b' Cost', b' Center', b',', b' Brand', b' if', b' need', b',', b' otherwise', b' keep', b' as', b' is', b'.', b' ?????', b'???', b',', b'????', b',', b'??', b',', b' ?', b'??????', b\"'\"], role='user')"
            ]
          },
          "metadata": {},
          "execution_count": 14
        }
      ]
    },
    {
      "cell_type": "markdown",
      "metadata": {
        "id": "container:training,prediction"
      },
      "source": [
        "### Set pre-built containers\n",
        "\n",
        "Vertex AI provides pre-built containers to run training and prediction.\n",
        "\n",
        "For the latest list, see [Pre-built containers for training](https://cloud.google.com/vertex-ai/docs/training/pre-built-containers) and [Pre-built containers for prediction](https://cloud.google.com/vertex-ai/docs/predictions/pre-built-containers)"
      ]
    },
    {
      "cell_type": "code",
      "execution_count": null,
      "metadata": {
        "id": "1u1mr18jlugv"
      },
      "outputs": [],
      "source": [
        "TRAIN_VERSION = \"tf-cpu.2-9\"\n",
        "DEPLOY_VERSION = \"tf2-cpu.2-9\"\n",
        "\n",
        "TRAIN_IMAGE = \"us-docker.pkg.dev/vertex-ai/training/{}:latest\".format(TRAIN_VERSION)\n",
        "DEPLOY_IMAGE = \"us-docker.pkg.dev/vertex-ai/prediction/{}:latest\".format(DEPLOY_VERSION)"
      ]
    },
    {
      "cell_type": "markdown",
      "metadata": {
        "id": "train_custom_model"
      },
      "source": [
        "# Tutorial\n",
        "\n",
        "Now you are ready to start creating your own custom-trained model with CIFAR10.\n",
        "## Train a model\n",
        "\n",
        "There are two ways you can train a custom model using a container image:\n",
        "\n",
        "- **Use a Google Cloud prebuilt container**. If you use a prebuilt container, you will additionally specify a Python package to install into the container image. This Python package contains your code for training a custom model.\n",
        "\n",
        "- **Use your own custom container image**. If you use your own container, the container needs to contain your code for training a custom model.\n",
        "\n",
        "### Define the command args for the training script\n",
        "\n",
        "Prepare the command-line arguments to pass to your training script.\n",
        "- `args`: The command line arguments to pass to the corresponding Python module. In this example, they will be:\n",
        "  - `\"--epochs=\" + EPOCHS`: The number of epochs for training.\n",
        "  - `\"--steps=\" + STEPS`: The number of steps (batches) per epoch.\n",
        "  - `\"--distribute=\" + TRAIN_STRATEGY\"` : The training distribution strategy to use for single or distributed training.\n",
        "     - `\"single\"`: single device.\n",
        "     - `\"mirror\"`: all GPU devices on a single compute instance.\n",
        "     - `\"multi\"`: all GPU devices on all compute instances."
      ]
    },
    {
      "cell_type": "code",
      "execution_count": null,
      "metadata": {
        "id": "1npiDcUtlugw"
      },
      "outputs": [],
      "source": [
        "JOB_NAME = \"custom_job_unique\"\n",
        "MODEL_DIR = \"{}/{}\".format(BUCKET_URI, JOB_NAME)\n",
        "\n",
        "TRAIN_STRATEGY = \"single\"\n",
        "\n",
        "EPOCHS = 20\n",
        "STEPS = 100\n",
        "\n",
        "CMDARGS = [\n",
        "    \"--epochs=\" + str(EPOCHS),\n",
        "    \"--steps=\" + str(STEPS),\n",
        "    \"--distribute=\" + TRAIN_STRATEGY,\n",
        "]"
      ]
    },
    {
      "cell_type": "markdown",
      "metadata": {
        "id": "taskpy_contents"
      },
      "source": [
        "#### Training script\n",
        "\n",
        "In the next cell, you will write the contents of the training script, `task.py`. In summary:\n",
        "\n",
        "- Get the directory where to save the model artifacts from the environment variable `AIP_MODEL_DIR`. This variable is set by the training service.\n",
        "- Loads CIFAR10 dataset from TF Datasets (tfds).\n",
        "- Builds a model using TF.Keras model API.\n",
        "- Compiles the model (`compile()`).\n",
        "- Sets a training distribution strategy according to the argument `args.distribute`.\n",
        "- Trains the model (`fit()`) with epochs and steps according to the arguments `args.epochs` and `args.steps`\n",
        "- Saves the trained model (`save(MODEL_DIR)`) to the specified model directory."
      ]
    },
    {
      "cell_type": "code",
      "execution_count": null,
      "metadata": {
        "id": "72rUqXNFlugx"
      },
      "outputs": [],
      "source": [
        "%%writefile task.py\n",
        "# Single, Mirror and Multi-Machine Distributed Training for CIFAR-10\n",
        "\n",
        "import tensorflow_datasets as tfds\n",
        "import tensorflow as tf\n",
        "from tensorflow.python.client import device_lib\n",
        "import argparse\n",
        "import os\n",
        "import sys\n",
        "tfds.disable_progress_bar()\n",
        "\n",
        "parser = argparse.ArgumentParser()\n",
        "parser.add_argument('--lr', dest='lr',\n",
        "                    default=0.01, type=float,\n",
        "                    help='Learning rate.')\n",
        "parser.add_argument('--epochs', dest='epochs',\n",
        "                    default=10, type=int,\n",
        "                    help='Number of epochs.')\n",
        "parser.add_argument('--steps', dest='steps',\n",
        "                    default=200, type=int,\n",
        "                    help='Number of steps per epoch.')\n",
        "parser.add_argument('--distribute', dest='distribute', type=str, default='single',\n",
        "                    help='distributed training strategy')\n",
        "args = parser.parse_args()\n",
        "\n",
        "print('Python Version = {}'.format(sys.version))\n",
        "print('TensorFlow Version = {}'.format(tf.__version__))\n",
        "print('TF_CONFIG = {}'.format(os.environ.get('TF_CONFIG', 'Not found')))\n",
        "print('DEVICES', device_lib.list_local_devices())\n",
        "\n",
        "# Single Machine, single compute device\n",
        "if args.distribute == 'single':\n",
        "    if tf.test.is_gpu_available():\n",
        "        strategy = tf.distribute.OneDeviceStrategy(device=\"/gpu:0\")\n",
        "    else:\n",
        "        strategy = tf.distribute.OneDeviceStrategy(device=\"/cpu:0\")\n",
        "# Single Machine, multiple compute device\n",
        "elif args.distribute == 'mirror':\n",
        "    strategy = tf.distribute.MirroredStrategy()\n",
        "# Multiple Machine, multiple compute device\n",
        "elif args.distribute == 'multi':\n",
        "    strategy = tf.distribute.experimental.MultiWorkerMirroredStrategy()\n",
        "\n",
        "# Multi-worker configuration\n",
        "print('num_replicas_in_sync = {}'.format(strategy.num_replicas_in_sync))\n",
        "\n",
        "# Preparing dataset\n",
        "BUFFER_SIZE = 10000\n",
        "BATCH_SIZE = 64\n",
        "\n",
        "def make_datasets_unbatched():\n",
        "  # Scaling CIFAR10 data from (0, 255] to (0., 1.]\n",
        "  def scale(image, label):\n",
        "    image = tf.cast(image, tf.float32)\n",
        "    image /= 255.0\n",
        "    return image, label\n",
        "\n",
        "  datasets, info = tfds.load(name='cifar10',\n",
        "                            with_info=True,\n",
        "                            as_supervised=True)\n",
        "  return datasets['train'].map(scale).cache().shuffle(BUFFER_SIZE).repeat()\n",
        "\n",
        "\n",
        "# Build the Keras model\n",
        "def build_and_compile_cnn_model():\n",
        "  model = tf.keras.Sequential([\n",
        "      tf.keras.layers.Conv2D(32, 3, activation='relu', input_shape=(32, 32, 3)),\n",
        "      tf.keras.layers.MaxPooling2D(),\n",
        "      tf.keras.layers.Conv2D(32, 3, activation='relu'),\n",
        "      tf.keras.layers.MaxPooling2D(),\n",
        "      tf.keras.layers.Flatten(),\n",
        "      tf.keras.layers.Dense(10, activation='softmax')\n",
        "  ])\n",
        "  model.compile(\n",
        "      loss=tf.keras.losses.sparse_categorical_crossentropy,\n",
        "      optimizer=tf.keras.optimizers.SGD(learning_rate=args.lr),\n",
        "      metrics=['accuracy'])\n",
        "  return model\n",
        "\n",
        "# Train the model\n",
        "NUM_WORKERS = strategy.num_replicas_in_sync\n",
        "# Here the batch size scales up by number of workers since\n",
        "# `tf.data.Dataset.batch` expects the global batch size.\n",
        "GLOBAL_BATCH_SIZE = BATCH_SIZE * NUM_WORKERS\n",
        "MODEL_DIR = os.getenv(\"AIP_MODEL_DIR\")\n",
        "\n",
        "train_dataset = make_datasets_unbatched().batch(GLOBAL_BATCH_SIZE)\n",
        "\n",
        "with strategy.scope():\n",
        "  # Creation of dataset, and model building/compiling need to be within\n",
        "  # `strategy.scope()`.\n",
        "  model = build_and_compile_cnn_model()\n",
        "\n",
        "model.fit(x=train_dataset, epochs=args.epochs, steps_per_epoch=args.steps)\n",
        "model.save(MODEL_DIR)"
      ]
    },
    {
      "cell_type": "markdown",
      "metadata": {
        "id": "train_custom_job"
      },
      "source": [
        "### Train the model\n",
        "\n",
        "Define your custom training job on Vertex AI.\n",
        "\n",
        "Use the `CustomTrainingJob` class to define the job, which takes the following parameters:\n",
        "\n",
        "- `display_name`: The user-defined name of this training pipeline.\n",
        "- `script_path`: The local path to the training script.\n",
        "- `container_uri`: The URI of the training container image.\n",
        "- `requirements`: The list of Python package dependencies of the script.\n",
        "- `model_serving_container_image_uri`: The URI of a container that can serve predictions for your model — either a prebuilt container or a custom container.\n",
        "\n",
        "Use the `run` function to start training, which takes the following parameters:\n",
        "\n",
        "- `args`: The command line arguments to be passed to the Python script.\n",
        "- `replica_count`: The number of worker replicas.\n",
        "- `model_display_name`: The display name of the `Model` if the script produces a managed `Model`.\n",
        "- `machine_type`: The type of machine to use for training.\n",
        "- `accelerator_type`: The hardware accelerator type.\n",
        "- `accelerator_count`: The number of accelerators to attach to a worker replica.\n",
        "\n",
        "The `run` function creates a training pipeline that trains and creates a `Model` object. After the training pipeline completes, the `run` function returns the `Model` object."
      ]
    },
    {
      "cell_type": "code",
      "execution_count": null,
      "metadata": {
        "id": "mxIxvDdglugx"
      },
      "outputs": [],
      "source": [
        "job = aiplatform.CustomTrainingJob(\n",
        "    display_name=JOB_NAME,\n",
        "    script_path=\"task.py\",\n",
        "    container_uri=TRAIN_IMAGE,\n",
        "    requirements=[\"tensorflow_datasets\"],\n",
        "    model_serving_container_image_uri=DEPLOY_IMAGE,\n",
        ")\n",
        "\n",
        "MODEL_DISPLAY_NAME = \"cifar10_unique\"\n",
        "\n",
        "# Start the training\n",
        "model = job.run(\n",
        "    model_display_name=MODEL_DISPLAY_NAME,\n",
        "    args=CMDARGS,\n",
        "    replica_count=1,\n",
        ")"
      ]
    },
    {
      "cell_type": "markdown",
      "metadata": {
        "id": "deploy_model:dedicated"
      },
      "source": [
        "### Deploy the model\n",
        "\n",
        "Before you use your model to make predictions, you need to deploy it to an `Endpoint`. You can do this by calling the `deploy` function on the `Model` resource. This will do two things:\n",
        "\n",
        "1. Create an `Endpoint` resource for deploying the `Model` resource to.\n",
        "2. Deploy the `Model` resource to the `Endpoint` resource.\n",
        "\n",
        "\n",
        "The function takes the following parameters:\n",
        "\n",
        "- `deployed_model_display_name`: A human readable name for the deployed model.\n",
        "- `traffic_split`: Percent of traffic at the endpoint that goes to this model, which is specified as a dictionary of one or more key/value pairs.\n",
        "   - If only one model, then specify as **{ \"0\": 100 }**, where \"0\" refers to this model being uploaded and 100 means 100% of the traffic.\n",
        "   - If there are existing models on the endpoint, for which the traffic will be split, then use `model_id` to specify as **{ \"0\": percent, model_id: percent, ... }**, where `model_id` is the model id of an existing model to the deployed endpoint. The percents must add up to 100.\n",
        "- `machine_type`: The type of machine to use for training.\n",
        "- `accelerator_type`: The hardware accelerator type.\n",
        "- `accelerator_count`: The number of accelerators to attach to a worker replica.\n",
        "- `starting_replica_count`: The number of compute instances to initially provision.\n",
        "- `max_replica_count`: The maximum number of compute instances to scale to. In this tutorial, only one instance is provisioned.\n",
        "\n",
        "### Traffic split\n",
        "\n",
        "The `traffic_split` parameter is specified as a Python dictionary. You can deploy more than one instance of your model to an endpoint, and then set the percentage of traffic that goes to each instance.\n",
        "\n",
        "You can use a traffic split to introduce a new model gradually into production. For example, if you had one existing model in production with 100% of the traffic, you could deploy a new model to the same endpoint, direct 10% of traffic to it, and reduce the original model's traffic to 90%. This allows you to monitor the new model's performance while minimizing the distruption to the majority of users.\n",
        "\n",
        "### Compute instance scaling\n",
        "\n",
        "You can specify a single instance (or node) to serve your online prediction requests. This tutorial uses a single node, so the variables `MIN_NODES` and `MAX_NODES` are both set to `1`.\n",
        "\n",
        "If you want to use multiple nodes to serve your online prediction requests, set `MAX_NODES` to the maximum number of nodes you want to use. Vertex AI autoscales the number of nodes used to serve your predictions, up to the maximum number you set. Refer to the [pricing page](https://cloud.google.com/vertex-ai/pricing#prediction-prices) to understand the costs of autoscaling with multiple nodes.\n",
        "\n",
        "### Endpoint\n",
        "\n",
        "The method will block until the model is deployed and eventually return an `Endpoint` object. If this is the first time a model is deployed to the endpoint, it may take a few additional minutes to complete provisioning of resources."
      ]
    },
    {
      "cell_type": "code",
      "execution_count": null,
      "metadata": {
        "id": "WMH7GrYMlugy"
      },
      "outputs": [],
      "source": [
        "DEPLOYED_NAME = \"cifar10_deployed_unique\"\n",
        "\n",
        "TRAFFIC_SPLIT = {\"0\": 100}\n",
        "\n",
        "MIN_NODES = 1\n",
        "MAX_NODES = 1\n",
        "\n",
        "\n",
        "endpoint = model.deploy(\n",
        "    deployed_model_display_name=DEPLOYED_NAME,\n",
        "    traffic_split=TRAFFIC_SPLIT,\n",
        "    min_replica_count=MIN_NODES,\n",
        "    max_replica_count=MAX_NODES,\n",
        ")"
      ]
    },
    {
      "cell_type": "markdown",
      "metadata": {
        "id": "get_test_item:test"
      },
      "source": [
        "## Make an online prediction request\n",
        "\n",
        "Send an online prediction request to your deployed model.\n",
        "### Get test data\n",
        "\n",
        "Download images from the CIFAR dataset and preprocess them.\n",
        "\n",
        "#### Download the test images\n",
        "\n",
        "Download the provided set of images from the CIFAR dataset:"
      ]
    },
    {
      "cell_type": "code",
      "execution_count": null,
      "metadata": {
        "id": "E1EQBPGnlugz"
      },
      "outputs": [],
      "source": [
        "# Download the images\n",
        "! gsutil -m cp -r gs://cloud-samples-data/ai-platform-unified/cifar_test_images ."
      ]
    },
    {
      "cell_type": "markdown",
      "metadata": {
        "id": "prepare_test_item:test,image"
      },
      "source": [
        "#### Preprocess the images\n",
        "Before you can run the data through the endpoint, you need to preprocess it to match the format that your custom model defined in `task.py` expects.\n",
        "\n",
        "`x_test`:\n",
        "Normalize (rescale) the pixel data by dividing each pixel by 255. This replaces each single byte integer pixel with a 32-bit floating point number between 0 and 1.\n",
        "\n",
        "`y_test`:\n",
        "You can extract the labels from the image filenames. Each image's filename format is \"image_{LABEL}_{IMAGE_NUMBER}.jpg\""
      ]
    },
    {
      "cell_type": "code",
      "execution_count": null,
      "metadata": {
        "id": "cl59KGnXlugz"
      },
      "outputs": [],
      "source": [
        "# Load image data\n",
        "IMAGE_DIRECTORY = \"cifar_test_images\"\n",
        "\n",
        "image_files = [file for file in os.listdir(IMAGE_DIRECTORY) if file.endswith(\".jpg\")]\n",
        "\n",
        "# Decode JPEG images into numpy arrays\n",
        "image_data = [\n",
        "    np.asarray(Image.open(os.path.join(IMAGE_DIRECTORY, file))) for file in image_files\n",
        "]\n",
        "\n",
        "# Scale and convert to expected format\n",
        "x_test = [(image / 255.0).astype(np.float32).tolist() for image in image_data]\n",
        "\n",
        "# Extract labels from image name\n",
        "y_test = [int(file.split(\"_\")[1]) for file in image_files]"
      ]
    },
    {
      "cell_type": "markdown",
      "metadata": {
        "id": "send_prediction_request:image"
      },
      "source": [
        "### Send the prediction request\n",
        "\n",
        "Now that you have test images, you can use them to send a prediction request. Use the `Endpoint` object's `predict` function, which takes the following parameters:\n",
        "\n",
        "- `instances`: A list of image instances. According to your custom model, each image instance should be a 3-dimensional matrix of floats. This was prepared in the previous step.\n",
        "\n",
        "The `predict` function returns a list, where each element in the list corresponds to the corresponding image in the request. You will see in the output for each prediction:\n",
        "\n",
        "- Confidence level for the prediction (`predictions`), between 0 and 1, for each of the ten classes.\n",
        "\n",
        "You can then run a quick evaluation on the prediction results:\n",
        "1. `np.argmax`: Convert each list of confidence levels to a label\n",
        "2. Compare the predicted labels to the actual labels\n",
        "3. Calculate `accuracy` as `correct/total`"
      ]
    },
    {
      "cell_type": "code",
      "execution_count": null,
      "metadata": {
        "id": "UywuX7fRlugz"
      },
      "outputs": [],
      "source": [
        "predictions = endpoint.predict(instances=x_test)\n",
        "y_predicted = np.argmax(predictions.predictions, axis=1)\n",
        "\n",
        "correct = sum(y_predicted == np.array(y_test))\n",
        "accuracy = len(y_predicted)\n",
        "print(\n",
        "    f\"Correct predictions = {correct}, Total predictions = {accuracy}, Accuracy = {correct/accuracy}\"\n",
        ")"
      ]
    },
    {
      "cell_type": "markdown",
      "metadata": {
        "id": "undeploy_model"
      },
      "source": [
        "## Undeploy the model\n",
        "\n",
        "To undeploy your `Model` resource from the serving `Endpoint` resource, use the endpoint's `undeploy` method with the following parameter:\n",
        "\n",
        "- `deployed_model_id`: The model deployment identifier returned by the endpoint service when the `Model` resource was deployed. You can retrieve the deployed models using the endpoint's `deployed_models` property.\n",
        "\n",
        "Since this is the only deployed model on the `Endpoint` resource, you can omit `traffic_split`."
      ]
    },
    {
      "cell_type": "code",
      "execution_count": null,
      "metadata": {
        "id": "khPSAO1tlug0"
      },
      "outputs": [],
      "source": [
        "deployed_model_id = endpoint.list_models()[0].id\n",
        "endpoint.undeploy(deployed_model_id=deployed_model_id)"
      ]
    },
    {
      "cell_type": "markdown",
      "metadata": {
        "id": "cleanup:custom"
      },
      "source": [
        "# Cleaning up\n",
        "\n",
        "To clean up all Google Cloud resources used in this project, you can [delete the Google Cloud project](https://cloud.google.com/resource-manager/docs/creating-managing-projects#shutting_down_projects) you used for the tutorial.\n",
        "\n",
        "Otherwise, you can delete the individual resources you created in this tutorial:\n",
        "\n",
        "- Training Job\n",
        "- Model\n",
        "- Endpoint\n",
        "- Cloud Storage Bucket"
      ]
    },
    {
      "cell_type": "code",
      "execution_count": null,
      "metadata": {
        "id": "NNmebHf7lug0"
      },
      "outputs": [],
      "source": [
        "# Warning: Setting this to true will delete everything in your bucket\n",
        "delete_bucket = False\n",
        "\n",
        "# Delete the training job\n",
        "job.delete()\n",
        "\n",
        "# Delete the model\n",
        "model.delete()\n",
        "\n",
        "# Delete the endpoint\n",
        "endpoint.delete()\n",
        "\n",
        "if delete_bucket:\n",
        "    ! gsutil -m rm -r $BUCKET_URI"
      ]
    }
  ],
  "metadata": {
    "colab": {
      "name": "sdk-custom-image-classification-online.ipynb",
      "toc_visible": true,
      "provenance": []
    },
    "kernelspec": {
      "display_name": "Python 3",
      "name": "python3"
    }
  },
  "nbformat": 4,
  "nbformat_minor": 0
}