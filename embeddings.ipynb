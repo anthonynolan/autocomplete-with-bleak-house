{
 "cells": [
  {
   "cell_type": "code",
   "execution_count": 1,
   "metadata": {
    "ExecuteTime": {
     "end_time": "2020-09-15T07:46:06.697561Z",
     "start_time": "2020-09-15T07:46:00.645510Z"
    }
   },
   "outputs": [],
   "source": [
    "import tensorflow as tf\n",
    "from tensorflow import keras\n",
    "from tensorflow.keras import layers\n",
    "import numpy as np\n",
    "import string\n",
    "from nltk.tokenize import word_tokenize\n",
    "from nltk import FreqDist\n",
    "from nltk.corpus import stopwords\n",
    "from nltk.stem import PorterStemmer\n",
    "from collections import Counter\n",
    "from sklearn.model_selection import train_test_split\n",
    "import matplotlib.pyplot as plt\n",
    "import sys"
   ]
  },
  {
   "cell_type": "code",
   "execution_count": 2,
   "metadata": {
    "ExecuteTime": {
     "end_time": "2020-09-15T07:46:09.682692Z",
     "start_time": "2020-09-15T07:46:09.674924Z"
    }
   },
   "outputs": [],
   "source": [
    "unknown_word_token = '<UNK>'\n",
    "context_size = 2\n",
    "\n",
    "porterStemmer = PorterStemmer()\n",
    "\n",
    "minimum_frequency = 10"
   ]
  },
  {
   "cell_type": "code",
   "execution_count": 6,
   "metadata": {
    "ExecuteTime": {
     "end_time": "2020-09-15T07:47:55.273346Z",
     "start_time": "2020-09-15T07:47:55.255950Z"
    }
   },
   "outputs": [],
   "source": [
    "def read_corpus(title='bleak.txt'):\n",
    "    with open(title, 'rt', encoding='utf-8-sig') as f:\n",
    "        content = f.read()\n",
    "    return content\n",
    "\n",
    "\n",
    "def process(st):\n",
    "    strip_chars = ['\\'']\n",
    "    for c in strip_chars:\n",
    "        st = st.replace(c , '')\n",
    "\n",
    "    rep_with_space_chars = [',', '.', '!', '?', '\"', '-', ';', '(', ')']\n",
    "    for c in rep_with_space_chars:\n",
    "        st = st.replace(c , ' ')\n",
    "\n",
    "    word_list = word_tokenize(st)\n",
    "    word_list = [porterStemmer.stem(a.lower().strip()) for a in word_list]\n",
    "    return word_list\n",
    "\n",
    "\n",
    "def get_most_common(word_array):\n",
    "    most_common_count = len({k:v for k, v in FreqDist(word_array).items() if v>minimum_frequency})\n",
    "    c = Counter(words)\n",
    "    most_common = [pair[0] for pair in c.most_common(most_common_count)]\n",
    "    return most_common, most_common_count\n",
    "\n",
    "\n",
    "def replace_unk(word_array, most_common_words):    \n",
    "    words_with_unk = [word if word in most_common else unknown_word_token for word in word_array]\n",
    "    return words_with_unk\n",
    "\n",
    "\n",
    "def create_word_indices(words_with_unk):\n",
    "    vocab = set(words_with_unk)\n",
    "    print(len(vocab))\n",
    "\n",
    "    index_to_word = {k:v for k, v in enumerate(vocab)}\n",
    "    word_to_index = {v:k for k, v in index_to_word.items()}; \n",
    "    return index_to_word, word_to_index, vocab\n",
    "\n",
    "def convert_window(words_with_unk):\n",
    "    input = []\n",
    "    for a in range(context_size, len(words_with_unk)-context_size):\n",
    "        x = [item for sublist in [words_with_unk[a-context_size:a], words_with_unk[a+1:a+context_size+1], [words_with_unk[a]]] for item in sublist]\n",
    "        input.append(x)\n",
    "    return input\n",
    "\n",
    "\n",
    "def convert_word_data_to_numbers(input):\n",
    "    Xs = []\n",
    "    Ys = []\n",
    "    for row in input:\n",
    "        Xs.append([word_to_index[word] for word in row[:-1]])\n",
    "        Ys.append([word_to_index[word] for word in row[-1:]])\n",
    "\n",
    "    X = np.vstack(Xs)\n",
    "    Y = np.vstack(Ys)\n",
    "\n",
    "    X_train_incl_val, X_test, Y_train_incl_val, Y_test = train_test_split(X, Y)\n",
    "    X_train, X_val, Y_train, Y_val = train_test_split(X_train_incl_val, Y_train_incl_val)\n",
    "    return X_train, X_val, X_test, Y_train, Y_val, Y_test\n",
    "\n",
    "\n",
    "def continue_fitting(model, initial_epoch, total_epochs):\n",
    "    history = model.fit(X_train, Y_train, batch_size=64, epochs=total_epochs, initial_epoch=initial_epoch, callbacks=[], validation_data=(X_val, Y_val), verbose=1)\n",
    "    return history\n",
    "\n",
    "\n",
    "def save_model(model_to_save):\n",
    "    model_to_save.save('saved_model/first_model')\n",
    "    \n",
    "    \n",
    "def load_model():\n",
    "    model = tf.keras.models.load_model('saved_model/first_model')\n",
    "    model.summary()\n",
    "    return model\n",
    "\n",
    "def plot_and_eval(model, history):\n",
    "    plt.plot(history.history['sparse_categorical_accuracy'], label='sparse_categorical_accuracy')\n",
    "    plt.plot(history.history['val_sparse_categorical_accuracy'], label='val_sparse_categorical_accuracy')\n",
    "    plt.legend()\n",
    "    plt.show()\n",
    "    model.evaluate(X_test, Y_test, batch_size=128)\n",
    "    \n",
    "def build_model():\n",
    "    model = keras.Sequential()\n",
    "    model.add(layers.Embedding(input_dim=len(vocab), output_dim=8))\n",
    "    model.add(layers.GlobalAveragePooling1D())\n",
    "    model.add(layers.Dense(2048, activation='relu'))\n",
    "    model.add(layers.Dense(len(vocab), activation='softmax', name='output-layer'))\n",
    " \n",
    "    model.compile(\n",
    "    optimizer=keras.optimizers.RMSprop(),  \n",
    "    loss=keras.losses.SparseCategoricalCrossentropy(),\n",
    "    metrics=[keras.metrics.SparseCategoricalAccuracy()])\n",
    "    \n",
    "    return model\n"
   ]
  },
  {
   "cell_type": "code",
   "execution_count": 10,
   "metadata": {
    "ExecuteTime": {
     "end_time": "2020-09-15T07:53:21.573655Z",
     "start_time": "2020-09-15T07:53:06.483110Z"
    }
   },
   "outputs": [
    {
     "name": "stdout",
     "output_type": "stream",
     "text": [
      "\n",
      "only using top 2335 words. This is the first n words with <UNK> token in place\n",
      "['the', 'project', 'gutenberg', 'ebook', 'bleak', 'hous', 'by', '<UNK>', '<UNK>', 'thi']\n",
      "\n",
      "Length of total vocabulary\n",
      "9241\n",
      "\n",
      "number of examples\n",
      "361160\n",
      "\n",
      "this is the words with <UNK> broken into windows of 2 leading words, 2 following words and centre word\n",
      "# 0 ['the', 'project', 'ebook', 'bleak', 'gutenberg']\n",
      "# 1 ['project', 'gutenberg', 'bleak', 'hous', 'ebook']\n",
      "# 2 ['gutenberg', 'ebook', 'hous', 'by', 'bleak']\n",
      "# 3 ['ebook', 'bleak', 'by', '<UNK>', 'hous']\n",
      "# 4 ['bleak', 'hous', '<UNK>', '<UNK>', 'by']\n",
      "2336\n",
      "\n",
      "The first of our words with their indexes\n",
      "[('growth', 0), ('smile', 1), ('furnitur', 2), ('knew', 3), ('plainli', 4)]\n",
      "(203152, 4) (67718, 4) (90290, 4) (203152, 1) (67718, 1) (90290, 1)\n"
     ]
    }
   ],
   "source": [
    "books = ['bleak.txt']\n",
    "words = []\n",
    "for book in books:\n",
    "    words += process(read_corpus(book))\n",
    "most_common, most_common_count = get_most_common(words)\n",
    "words_with_unk = replace_unk(words, most_common)\n",
    "\n",
    "print()\n",
    "print('only using top {} words. This is the first n words with {} token in place'.format(most_common_count, unknown_word_token))\n",
    "print(words_with_unk[:10])\n",
    "\n",
    "print()\n",
    "print('Length of total vocabulary')\n",
    "print(len(set(words)))\n",
    "\n",
    "input = convert_window(words_with_unk)\n",
    "print()\n",
    "print('number of examples')\n",
    "print(len(input))\n",
    "\n",
    "print()\n",
    "print('this is the words with {} broken into windows of 2 leading words, 2 following words and centre word'.format(unknown_word_token))\n",
    "for i, window in enumerate(input[:5]):\n",
    "    print('# {}'.format(i), window)\n",
    "\n",
    "index_to_word, word_to_index, vocab = create_word_indices(words_with_unk)\n",
    "\n",
    "gen = (item for item in word_to_index.items())\n",
    "\n",
    "print()\n",
    "print('The first of our words with their indexes')\n",
    "print([next(gen) for _ in range(5)])\n",
    "\n",
    "X_train, X_val, X_test, Y_train, Y_val, Y_test = convert_word_data_to_numbers(input)\n",
    "print(X_train.shape, X_val.shape, X_test.shape, Y_train.shape, Y_val.shape, Y_test.shape)"
   ]
  },
  {
   "cell_type": "code",
   "execution_count": 44,
   "metadata": {
    "ExecuteTime": {
     "end_time": "2020-09-15T08:17:35.868129Z",
     "start_time": "2020-09-15T08:13:39.642769Z"
    }
   },
   "outputs": [
    {
     "name": "stdout",
     "output_type": "stream",
     "text": [
      "Train on 203152 samples, validate on 67718 samples\n",
      "Epoch 1/2\n",
      "203152/203152 [==============================] - 115s 567us/sample - loss: 5.7066 - sparse_categorical_accuracy: 0.0855 - val_loss: 5.5489 - val_sparse_categorical_accuracy: 0.1040\n",
      "Epoch 2/2\n",
      "203152/203152 [==============================] - 115s 564us/sample - loss: 5.5021 - sparse_categorical_accuracy: 0.1073 - val_loss: 5.5186 - val_sparse_categorical_accuracy: 0.1105\n"
     ]
    },
    {
     "data": {
      "image/png": "[encoded data removed]",
      "text/plain": [
       "<Figure size 432x288 with 1 Axes>"
      ]
     },
     "metadata": {
      "needs_background": "light"
     },
     "output_type": "display_data"
    },
    {
     "name": "stdout",
     "output_type": "stream",
     "text": [
      "90290/90290 [==============================] - 6s 69us/sample - loss: 5.5165 - sparse_categorical_accuracy: 0.1105\n"
     ]
    }
   ],
   "source": [
    "model = build_model()\n",
    "history = continue_fitting(model, 0, 2)\n",
    "plot_and_eval(model, history)"
   ]
  },
  {
   "cell_type": "code",
   "execution_count": 46,
   "metadata": {
    "ExecuteTime": {
     "end_time": "2020-09-15T14:14:17.855117Z",
     "start_time": "2020-09-15T14:14:17.816915Z"
    }
   },
   "outputs": [
    {
     "name": "stdout",
     "output_type": "stream",
     "text": [
      "['the', 'dog', 'sit', 'still', 'wa']\n",
      "[853, 871, 1679, 258]\n",
      "(1, 2336)\n"
     ]
    },
    {
     "data": {
      "text/plain": [
       "['deserv', 'itll', 'materi', 'deed', 'virtu']"
      ]
     },
     "execution_count": 46,
     "metadata": {},
     "output_type": "execute_result"
    }
   ],
   "source": [
    "def predict(sentence, model):\n",
    "    input = convert_window(replace_unk(process(sentence), most_common))[0]\n",
    "    print(input)\n",
    "    indices = [word_to_index[word] for word in input]\n",
    "    print(indices[:-1])\n",
    "    prediction = model.predict(indices[:-1])\n",
    "    averaged_predictions = layers.GlobalAveragePooling1D()(np.expand_dims(prediction, 0)).numpy()\n",
    "    print(averaged_predictions.shape)\n",
    "    predicted_words = []\n",
    "    for index in np.argsort(np.squeeze(averaged_predictions))[:5]:\n",
    "        predicted_words.append(index_to_word[index])\n",
    "    return predicted_words\n",
    "\n",
    "predict('The dog was sitting still', model)"
   ]
  },
  {
   "cell_type": "markdown",
   "metadata": {},
   "source": [
    "# Location based hashing"
   ]
  },
  {
   "cell_type": "markdown",
   "metadata": {},
   "source": [
    "A set of vectors in n-space can be partitioned by a hyperplane in n-1 dimensions.\n",
    "To determine the side of the plane calculate the dot product of the vector and the normal vector of the plane.\n",
    "In this way it is not necessary to explicitly specify the plane. The normal vectors can be chosen randomly instead."
   ]
  },
  {
   "cell_type": "code",
   "execution_count": 3,
   "metadata": {
    "ExecuteTime": {
     "end_time": "2020-09-14T09:58:53.916843Z",
     "start_time": "2020-09-14T09:58:53.908746Z"
    }
   },
   "outputs": [
    {
     "data": {
      "text/plain": [
       "array([[-1.28436281,  0.94600479,  0.31160425],\n",
       "       [-1.01938606,  0.91269729,  1.42380939]])"
      ]
     },
     "execution_count": 3,
     "metadata": {},
     "output_type": "execute_result"
    }
   ],
   "source": [
    "n_dimensions = 3\n",
    "n_planes = 2\n",
    "\n",
    "planes = np.random.normal(size=(n_planes, n_dimensions))\n",
    "planes"
   ]
  },
  {
   "cell_type": "code",
   "execution_count": 11,
   "metadata": {
    "ExecuteTime": {
     "end_time": "2020-09-14T10:06:14.104441Z",
     "start_time": "2020-09-14T10:06:14.099589Z"
    }
   },
   "outputs": [],
   "source": [
    "def get_hash(point):\n",
    "    hash = 0\n",
    "    index = 0\n",
    "    for plane in planes:\n",
    "        side = int(np.sign(np.dot(plane.T, point)))\n",
    "        if side>0:\n",
    "            hash+=2**index\n",
    "        index +=1\n",
    "    return hash"
   ]
  },
  {
   "cell_type": "code",
   "execution_count": 15,
   "metadata": {
    "ExecuteTime": {
     "end_time": "2020-09-14T10:08:21.071208Z",
     "start_time": "2020-09-14T10:08:20.712143Z"
    }
   },
   "outputs": [
    {
     "name": "stdout",
     "output_type": "stream",
     "text": [
      "Model: \"sequential_19\"\n",
      "_________________________________________________________________\n",
      "Layer (type)                 Output Shape              Param #   \n",
      "=================================================================\n",
      "embedding_19 (Embedding)     (None, None, 30)          70080     \n",
      "_________________________________________________________________\n",
      "embedding_average_layer_34 ( (None, 30)                0         \n",
      "_________________________________________________________________\n",
      "dense_35 (Dense)             (None, 2048)              63488     \n",
      "_________________________________________________________________\n",
      "output-layer (Dense)         (None, 2336)              4786464   \n",
      "=================================================================\n",
      "Total params: 4,920,032\n",
      "Trainable params: 4,920,032\n",
      "Non-trainable params: 0\n",
      "_________________________________________________________________\n"
     ]
    }
   ],
   "source": [
    "model = load_model()\n",
    "model.weights"
   ]
  },
  {
   "cell_type": "code",
   "execution_count": 48,
   "metadata": {
    "ExecuteTime": {
     "end_time": "2020-09-15T14:23:02.421171Z",
     "start_time": "2020-09-15T14:23:02.414312Z"
    }
   },
   "outputs": [
    {
     "data": {
      "text/plain": [
       "(2336, 8)"
      ]
     },
     "execution_count": 48,
     "metadata": {},
     "output_type": "execute_result"
    }
   ],
   "source": [
    "embeddings = model.layers[0].weights[0].numpy()\n",
    "embeddings.shape"
   ]
  },
  {
   "cell_type": "code",
   "execution_count": 105,
   "metadata": {
    "ExecuteTime": {
     "end_time": "2020-09-14T12:16:33.933647Z",
     "start_time": "2020-09-14T12:16:33.902336Z"
    }
   },
   "outputs": [],
   "source": [
    "with open('weights.tsv', 'wt') as f:\n",
    "    np.savetxt(f, embeddings, delimiter='\\t')\n",
    "\n",
    "with open('labels.tsv', 'wt') as f:\n",
    "    for a in range(len(index_to_word)):\n",
    "        f.write(index_to_word[a]+'\\t\\n')"
   ]
  },
  {
   "cell_type": "code",
   "execution_count": 107,
   "metadata": {
    "ExecuteTime": {
     "end_time": "2020-09-14T12:16:36.733127Z",
     "start_time": "2020-09-14T12:16:36.726373Z"
    }
   },
   "outputs": [
    {
     "data": {
      "text/plain": [
       "7.483314773547883"
      ]
     },
     "execution_count": 107,
     "metadata": {},
     "output_type": "execute_result"
    }
   ],
   "source": [
    "def euclidean_distance(a, b):\n",
    "    return np.sqrt(np.sum((a*b)**2))\n",
    "\n",
    "x = np.array([1,2,3])\n",
    "y = np.array([2,2,2])\n",
    "euclidean_distance(x, y)"
   ]
  },
  {
   "cell_type": "code",
   "execution_count": 119,
   "metadata": {
    "ExecuteTime": {
     "end_time": "2020-09-14T12:17:32.467857Z",
     "start_time": "2020-09-14T12:17:32.435105Z"
    }
   },
   "outputs": [
    {
     "name": "stdout",
     "output_type": "stream",
     "text": [
      "advic\n"
     ]
    }
   ],
   "source": [
    "index = np.random.randint(len(vocab))\n",
    "reference_word = embeddings[index]\n",
    "print(index_to_word[index])\n",
    "min_word = (None, sys.maxsize)\n",
    "for word in vocab:\n",
    "    if index==word_to_index[word]:\n",
    "        continue\n",
    "    distance = euclidean_distance(embeddings[word_to_index[word]], reference_word)\n",
    "    if distance<min_word[1]:\n",
    "        min_word = (word, distance)\n"
   ]
  },
  {
   "cell_type": "code",
   "execution_count": 120,
   "metadata": {
    "ExecuteTime": {
     "end_time": "2020-09-14T12:17:32.879642Z",
     "start_time": "2020-09-14T12:17:32.875162Z"
    }
   },
   "outputs": [
    {
     "data": {
      "text/plain": [
       "('gay', 0.00046585425)"
      ]
     },
     "execution_count": 120,
     "metadata": {},
     "output_type": "execute_result"
    }
   ],
   "source": [
    "min_word"
   ]
  }
 ],
 "metadata": {
  "kernelspec": {
   "display_name": "Python 3",
   "language": "python",
   "name": "python3"
  },
  "language_info": {
   "codemirror_mode": {
    "name": "ipython",
    "version": 3
   },
   "file_extension": ".py",
   "mimetype": "text/x-python",
   "name": "python",
   "nbconvert_exporter": "python",
   "pygments_lexer": "ipython3",
   "version": "3.7.5"
  },
  "toc-autonumbering": false,
  "toc-showcode": true,
  "toc-showmarkdowntxt": true
 },
 "nbformat": 4,
 "nbformat_minor": 4
}
